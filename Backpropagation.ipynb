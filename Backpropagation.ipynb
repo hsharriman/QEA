{
 "cells": [
  {
   "cell_type": "markdown",
   "metadata": {},
   "source": [
    "# Backpropagation Notebook\n",
    "Design Your Own Adventure Project: QEA Spring 2018  \n",
    "Hwei-Shin Harriman"
   ]
  },
  {
   "cell_type": "code",
   "execution_count": 269,
   "metadata": {
    "collapsed": true
   },
   "outputs": [],
   "source": [
    "import numpy as np\n",
    "import math\n",
    "import matplotlib\n",
    "import matplotlib.pyplot as plt"
   ]
  },
  {
   "cell_type": "code",
   "execution_count": 270,
   "metadata": {
    "collapsed": true
   },
   "outputs": [],
   "source": [
    "def sigmoid(aj):\n",
    "    #Calculates the sigmoid function using logistic\n",
    "    return 1 / (1 + np.exp(-aj))"
   ]
  },
  {
   "cell_type": "code",
   "execution_count": 271,
   "metadata": {
    "collapsed": true
   },
   "outputs": [],
   "source": [
    "def sigPrime(z):\n",
    "    return (z * (1 - z))"
   ]
  },
  {
   "cell_type": "code",
   "execution_count": 272,
   "metadata": {
    "collapsed": true
   },
   "outputs": [],
   "source": [
    "def calcAj(weights, prevLayerOut):    \n",
    "    #Calculates the sum of the weights and outputs from previous \n",
    "    #prevLayerOut and weights must be np arrays\n",
    "    #weights should be one ROW of the weights matrix\n",
    "    #prevLayerOut should be a ROW vector\n",
    "    return np.dot(weights, prevLayerOut)"
   ]
  },
  {
   "cell_type": "code",
   "execution_count": 273,
   "metadata": {
    "collapsed": true
   },
   "outputs": [],
   "source": [
    "#given matrix of weights, number of nodes per hidden layer,\n",
    "#and an input vector of data, propagate forward for one layer\n",
    "\n",
    "def calcLayerOutputs(inputVec, weights, neuronsInLayer):\n",
    "    #define matrix of output activations for all units in current layer\n",
    "    outputs = []\n",
    "    zi = inputVec\n",
    "    for j in range(neuronsInLayer):\n",
    "        #(1 x n) dot (1 x n)\n",
    "        aj = calcAj(weights[j, :], zi)\n",
    "        outputs.append(sigmoid(aj))\n",
    "    \n",
    "    #should be j outputs\n",
    "    return np.asarray(outputs)"
   ]
  },
  {
   "cell_type": "code",
   "execution_count": 300,
   "metadata": {
    "collapsed": true
   },
   "outputs": [],
   "source": [
    "#Same as calcLayerOutputs but doesn't pass through a sigmoid function\n",
    "def calcNetOutput(inputVec, weights, neuronsInLayer):\n",
    "    #define matrix of output activations for all units in current layer\n",
    "    outputs = []\n",
    "    zi = inputVec\n",
    "    for j in range(neuronsInLayer):\n",
    "        #(1 x n) dot (1 x n)\n",
    "        aj = calcAj(weights[j, :], zi)\n",
    "        outputs.append(aj)\n",
    "    \n",
    "    #should be j outputs\n",
    "    return np.asarray(outputs)"
   ]
  },
  {
   "cell_type": "code",
   "execution_count": 275,
   "metadata": {
    "collapsed": true
   },
   "outputs": [],
   "source": [
    "def sumOfSquareError(netOutput, target):\n",
    "    #Takes 2 vectors of same dimensions, returns the sum-of-squares error\n",
    "    return 0.5 * np.sum(np.power(netOutput - target, 2))"
   ]
  },
  {
   "cell_type": "code",
   "execution_count": 298,
   "metadata": {
    "collapsed": true
   },
   "outputs": [],
   "source": [
    "def calcDelta(netOutput, target):\n",
    "    #Takes 2 np arrays, all activations from forward prop and actual target\n",
    "    #returns delta value for each output neuron\n",
    "    #assumes netOutput's last entry is activations of output layer\n",
    "    sigOutk = []\n",
    "    guesses = netOutput[-1]\n",
    "    for k in range(len(guesses)):\n",
    "        sigOutk.append(sigPrime(guesses[k]))\n",
    "    return np.asarray(sigOutk) * (guesses - target)"
   ]
  },
  {
   "cell_type": "code",
   "execution_count": 299,
   "metadata": {
    "collapsed": true
   },
   "outputs": [],
   "source": [
    "#neuronsPerLayer = array with number of neurons in each hidden/output layer\n",
    "def forwardprop(inputVec, weights, neuronsPerLayer):\n",
    "    #calculates outputs for all neurons in network\n",
    "    activations = [inputVec]\n",
    "    \n",
    "    #dynamically calculates activations for all nodes in network\n",
    "    for layer in range(len(weights)):\n",
    "        weightsInLayer = weights[layer]\n",
    "        neuronsInLayer = np.shape(weightsInLayer)[0]\n",
    "        \n",
    "        #calculates all activations for current layer\n",
    "        layerActivations = calcLayerOutputs(activations[layer], weightsInLayer[:, :], neuronsInLayer)\n",
    "        \n",
    "        #if on output layer, also calculate output without passing through sigmoid function\n",
    "        if layer == (len(weights) - 1):\n",
    "            netOut = calcNetOutput(activations[layer], weightsInLayer[:, :], neuronsInLayer)\n",
    "            #TODO: Unsure about whether this should be:\n",
    "            #layerActivations = netOut\n",
    "            \n",
    "        #adds resulting np array to list\n",
    "        activations.append(layerActivations)\n",
    "    #should be number of layers * j (neurons per layer) activations\n",
    "    return activations, netOut"
   ]
  },
  {
   "cell_type": "code",
   "execution_count": 293,
   "metadata": {
    "collapsed": true
   },
   "outputs": [],
   "source": [
    "def backprop(activations, weights, deltaK):\n",
    "    #calculates deltas for hidden units\n",
    "    allDeltas = [deltaK]\n",
    "    for layer in range(len(weights) - 1, 0, -1):\n",
    "        #fetches activations from previous layer\n",
    "        zj = activations[layer - 1]\n",
    "        weightsInLayer = weights[layer]\n",
    "        \n",
    "        #empty cache list\n",
    "        deltaJs = []\n",
    "        for j in range(len(zj)):\n",
    "            dj = sigPrime(zj[j]) * np.dot(weightsInLayer[j, :], allDeltas[0])\n",
    "            deltaJs.append(dj)\n",
    "        \n",
    "        #builds list of deltas to have same indexing as weights matrix\n",
    "        allDeltas.insert(0, np.asarray(deltaJs))\n",
    "        \n",
    "    #inserts placeholder activations on input vecs for indexing in\n",
    "    #updateWeights function\n",
    "    allDeltas.insert(0, activations[0])\n",
    "    return allDeltas"
   ]
  },
  {
   "cell_type": "code",
   "execution_count": 279,
   "metadata": {},
   "outputs": [
    {
     "name": "stdout",
     "output_type": "stream",
     "text": [
      "[array([0.21097929, 0.31070097, 0.5823619 , 0.91421451, 0.76385213,\n",
      "       0.09663155, 0.21134969, 0.0860696 , 0.29906261, 0.31482641]), array([0.60693362, 0.42291762, 0.53677095, 0.81759529, 0.88454944,\n",
      "       0.7359575 , 0.94956267, 0.83138158, 0.89805622, 0.68880227]), array([0.99070749, 0.39441403, 0.79331718, 0.69526797, 0.60117633,\n",
      "       0.05357645, 0.95099324, 0.06565698, 0.72867649, 0.98744954]), array([0.04596061, 0.18211081, 0.17127692, 0.01705417, 0.84979419,\n",
      "       0.86820292, 0.99855961, 0.36373416, 0.21627882, 0.67162766])]\n",
      "[-3.0329203  -1.50211149 -1.57660438 -4.05415903  1.73298773  1.88516201\n",
      "  6.54140033 -0.55919319 -1.28748489  0.71555596]\n"
     ]
    }
   ],
   "source": [
    "#testing functionality of forward propagation\n",
    "\n",
    "#generate random vector and weight matrix\n",
    "inputVec = np.random.rand(10)\n",
    "numLayers = 3\n",
    "weightMatrix = []\n",
    "for layer in range(numLayers):\n",
    "    weightMatrix.append(np.random.randn(10, 10))\n",
    "neuronsPerLayer = [10, 10, 10]\n",
    "activations, guessVec = forwardprop(inputVec, weightMatrix, neuronsPerLayer)\n",
    "\n",
    "#first entry of activations is the input vector\n",
    "print(activations)\n",
    "print(guessVec)"
   ]
  },
  {
   "cell_type": "code",
   "execution_count": 280,
   "metadata": {},
   "outputs": [
    {
     "data": {
      "text/plain": [
       "array([ 0.00201529,  0.02712476,  0.02431124, -0.01647744, -0.01917288,\n",
       "       -0.01508109,  0.00143624,  0.08417959, -0.13284254,  0.14812341])"
      ]
     },
     "execution_count": 280,
     "metadata": {},
     "output_type": "execute_result"
    }
   ],
   "source": [
    "#test functionality of deltas function\n",
    "targets = np.array([0., 0., 0., 1., 1., 1. , 0., 0., 1., 0.])\n",
    "\n",
    "deltas = calcDelta(activations, targets)\n",
    "deltas"
   ]
  },
  {
   "cell_type": "code",
   "execution_count": 281,
   "metadata": {},
   "outputs": [
    {
     "data": {
      "text/plain": [
       "[array([0.21097929, 0.31070097, 0.5823619 , 0.91421451, 0.76385213,\n",
       "        0.09663155, 0.21134969, 0.0860696 , 0.29906261, 0.31482641]),\n",
       " array([-0.00365212, -0.02520321,  0.01829818, -0.00766856,  0.00302656,\n",
       "         0.00157913,  0.02849039, -0.00070579, -0.00405121, -0.00648931]),\n",
       " array([-0.02485708, -0.0540787 , -0.03010654,  0.00820516, -0.03985493,\n",
       "         0.00303697, -0.00440823,  0.0333322 ,  0.01574399,  0.03943848]),\n",
       " array([ 0.00201529,  0.02712476,  0.02431124, -0.01647744, -0.01917288,\n",
       "        -0.01508109,  0.00143624,  0.08417959, -0.13284254,  0.14812341])]"
      ]
     },
     "execution_count": 281,
     "metadata": {},
     "output_type": "execute_result"
    }
   ],
   "source": [
    "#test functionality of backprop\n",
    "alldeltas = backprop(activations, weightMatrix, deltas)\n",
    "alldeltas"
   ]
  },
  {
   "cell_type": "code",
   "execution_count": 282,
   "metadata": {},
   "outputs": [
    {
     "data": {
      "text/plain": [
       "[array([[4.45122588e-05, 6.55514684e-05, 1.22866298e-04, 1.92880323e-04,\n",
       "         1.61156976e-04, 2.03872547e-05, 4.45904068e-05, 1.81589025e-05,\n",
       "         6.30960159e-05, 6.64218516e-05],\n",
       "        [6.55514684e-05, 9.65350924e-05, 1.80940408e-04, 2.84047334e-04,\n",
       "         2.37329597e-04, 3.00235153e-05, 6.56665540e-05, 2.67419079e-05,\n",
       "         9.29190432e-05, 9.78168719e-05],\n",
       "        [1.22866298e-04, 1.80940408e-04, 3.39145388e-04, 5.32403701e-04,\n",
       "         4.44838381e-04, 5.62745316e-05, 1.23082009e-04, 5.01236557e-05,\n",
       "         1.74162672e-04, 1.83342910e-04],\n",
       "        [1.92880323e-04, 2.84047334e-04, 5.32403701e-04, 8.35788165e-04,\n",
       "         6.98324699e-04, 8.83419619e-05, 1.93218954e-04, 7.86860762e-05,\n",
       "         2.73407377e-04, 2.87818874e-04],\n",
       "        [1.61156976e-04, 2.37329597e-04, 4.44838381e-04, 6.98324699e-04,\n",
       "         5.83470077e-04, 7.38122129e-05, 1.61439912e-04, 6.57444467e-05,\n",
       "         2.28439613e-04, 2.40480827e-04],\n",
       "        [2.03872547e-05, 3.00235153e-05, 5.62745316e-05, 8.83419619e-05,\n",
       "         7.38122129e-05, 9.33765583e-06, 2.04230476e-05, 8.31703849e-06,\n",
       "         2.88988827e-05, 3.04221633e-05],\n",
       "        [4.45904068e-05, 6.56665540e-05, 1.23082009e-04, 1.93218954e-04,\n",
       "         1.61439912e-04, 2.04230476e-05, 4.46686920e-05, 1.81907832e-05,\n",
       "         6.32067905e-05, 6.65384653e-05],\n",
       "        [1.81589025e-05, 2.67419079e-05, 5.01236557e-05, 7.86860762e-05,\n",
       "         6.57444467e-05, 8.31703849e-06, 1.81907832e-05, 7.40797590e-06,\n",
       "         2.57401990e-05, 2.70969832e-05],\n",
       "        [6.30960159e-05, 9.29190432e-05, 1.74162672e-04, 2.73407377e-04,\n",
       "         2.28439613e-04, 2.88988827e-05, 6.32067905e-05, 2.57401990e-05,\n",
       "         8.94384453e-05, 9.41528092e-05],\n",
       "        [6.64218516e-05, 9.78168719e-05, 1.83342910e-04, 2.87818874e-04,\n",
       "         2.40480827e-04, 3.04221633e-05, 6.65384653e-05, 2.70969832e-05,\n",
       "         9.41528092e-05, 9.91156706e-05]]),\n",
       " array([[-2.21659306e-06, -1.52966727e-05,  1.11057826e-05,\n",
       "         -4.65430689e-06,  1.83692064e-06,  9.58428364e-07,\n",
       "          1.72917747e-05, -4.28366802e-07, -2.45881335e-06,\n",
       "         -3.93858043e-06],\n",
       "        [-1.54454497e-06, -1.06588797e-05,  7.73862412e-06,\n",
       "         -3.24316917e-06,  1.27998529e-06,  6.67842794e-07,\n",
       "          1.20490874e-05, -2.98490417e-07, -1.71332657e-06,\n",
       "         -2.74444357e-06],\n",
       "        [-1.96035073e-06, -1.35283485e-05,  9.82193318e-06,\n",
       "         -4.11626025e-06,  1.62456915e-06,  8.47632240e-07,\n",
       "          1.52928130e-05, -3.78846793e-07, -2.17456990e-06,\n",
       "         -3.48327312e-06],\n",
       "        [-2.98595433e-06, -2.06060222e-05,  1.49605085e-05,\n",
       "         -6.26977862e-06,  2.47450071e-06,  1.29109098e-06,\n",
       "          2.32936078e-05, -5.77049403e-07, -3.31224729e-06,\n",
       "         -5.30562938e-06],\n",
       "        [-3.23047873e-06, -2.22934812e-05,  1.61856477e-05,\n",
       "         -6.78322047e-06,  2.67714140e-06,  1.39682042e-06,\n",
       "          2.52011573e-05, -6.24304870e-07, -3.58349234e-06,\n",
       "         -5.74011556e-06],\n",
       "        [-2.68780350e-06, -1.85484882e-05,  1.34666853e-05,\n",
       "         -5.64373432e-06,  2.22741909e-06,  1.16217413e-06,\n",
       "          2.09677154e-05, -5.19430385e-07, -2.98151576e-06,\n",
       "         -4.77585645e-06],\n",
       "        [-3.46791474e-06, -2.39320232e-05,  1.73752718e-05,\n",
       "         -7.28177840e-06,  2.87390783e-06,  1.49948491e-06,\n",
       "          2.70534097e-05, -6.70190470e-07, -3.84687439e-06,\n",
       "         -6.16200663e-06],\n",
       "        [-3.03630348e-06, -2.09534809e-05,  1.52127726e-05,\n",
       "         -6.37549961e-06,  2.51622574e-06,  1.31286136e-06,\n",
       "          2.36863845e-05, -5.86779609e-07, -3.36809840e-06,\n",
       "         -5.39509289e-06],\n",
       "        [-3.27980710e-06, -2.26338955e-05,  1.64327973e-05,\n",
       "         -6.88679806e-06,  2.71802048e-06,  1.41814942e-06,\n",
       "          2.55859708e-05, -6.33837804e-07, -3.63821111e-06,\n",
       "         -5.82776528e-06],\n",
       "        [-2.51558701e-06, -1.73600250e-05,  1.26038301e-05,\n",
       "         -5.28212154e-06,  2.08470096e-06,  1.08770978e-06,\n",
       "          1.96242443e-05, -4.86148757e-07, -2.79048015e-06,\n",
       "         -4.46985148e-06]]),\n",
       " array([[-2.46260930e-05, -5.35761776e-05, -2.98267710e-05,\n",
       "          8.12891049e-06, -3.94845812e-05,  3.00874945e-06,\n",
       "         -4.36726175e-06,  3.30224637e-05,  1.55976887e-05,\n",
       "          3.90719947e-05],\n",
       "        [-9.80398005e-06, -2.13293995e-05, -1.18744402e-05,\n",
       "          3.23622900e-06, -1.57193448e-05,  1.19782377e-06,\n",
       "         -1.73866586e-06,  1.31466886e-05,  6.20965042e-06,\n",
       "          1.55550885e-05],\n",
       "        [-1.97195466e-05, -4.29015651e-05, -2.38840323e-05,\n",
       "          6.50929196e-06, -3.16176032e-05,  2.40928088e-06,\n",
       "         -3.49712078e-06,  2.64430095e-05,  1.24899775e-05,\n",
       "          3.12872212e-05],\n",
       "        [-1.72823299e-05, -3.75991911e-05, -2.09321104e-05,\n",
       "          5.70478285e-06, -2.77098587e-05,  2.11150834e-06,\n",
       "         -3.06489781e-06,  2.31748135e-05,  1.09462919e-05,\n",
       "          2.74203099e-05],\n",
       "        [-1.49434867e-05, -3.25108372e-05, -1.80993371e-05,\n",
       "          4.93274618e-06, -2.39598427e-05,  1.82575480e-06,\n",
       "         -2.65012067e-06,  2.00385318e-05,  9.46491406e-06,\n",
       "          2.37094790e-05],\n",
       "        [-1.33175386e-06, -2.89734475e-06, -1.61300119e-06,\n",
       "          4.39603144e-07, -2.13528566e-06,  1.62710085e-07,\n",
       "         -2.36177037e-07,  1.78582098e-06,  8.43507010e-07,\n",
       "          2.11297341e-06],\n",
       "        [-2.36389127e-05, -5.14284822e-05, -2.86311124e-05,\n",
       "          7.80304880e-06, -3.79017722e-05,  2.88813843e-06,\n",
       "         -4.19219237e-06,  3.16987001e-05,  1.49724278e-05,\n",
       "          3.75057249e-05],\n",
       "        [-1.63204060e-06, -3.55064432e-06, -1.97670420e-06,\n",
       "          5.38725814e-07, -2.61675450e-06,  1.99398308e-07,\n",
       "         -2.89430747e-07,  2.18849176e-06,  1.03370280e-06,\n",
       "          2.58941123e-06],\n",
       "        [-1.81127680e-05, -3.94058804e-05, -2.19379251e-05,\n",
       "          5.97890497e-06, -2.90413529e-05,  2.21296902e-06,\n",
       "         -3.21217007e-06,  2.42883929e-05,  1.14722752e-05,\n",
       "          2.87378909e-05],\n",
       "        [-2.45451099e-05, -5.33999920e-05, -2.97286855e-05,\n",
       "          8.10217852e-06, -3.93547358e-05,  2.99885516e-06,\n",
       "         -4.35289998e-06,  3.29138691e-05,  1.55463956e-05,\n",
       "          3.89435062e-05]])]"
      ]
     },
     "execution_count": 282,
     "metadata": {},
     "output_type": "execute_result"
    }
   ],
   "source": [
    "def calcGradient(learningRate, deltas, activations, weights):\n",
    "    #for each layer, for each weight @ every node, calculate the gradient\n",
    "    gradient = []\n",
    "    for layer in range(len(weights) -1, -1, -1):\n",
    "        deltaKs = deltas[layer]\n",
    "        outJs = activations[layer]\n",
    "        weightDims = weights[layer]\n",
    "        \n",
    "        #pre-allocate array to fill with gradient values\n",
    "        weightsInLayer = np.array([[0.] * weightDims.shape[0]] * weightDims.shape[1])\n",
    "\n",
    "        for k in range(len(deltaKs)):\n",
    "            for j in range(len(outJs)):\n",
    "                weightsInLayer[j,k] =  1 * learningRate * deltaKs[k] * outJs[j]\n",
    "        \n",
    "        gradient.insert(0, weightsInLayer)\n",
    "    return gradient\n",
    "updatedW = calcGradient(.001, alldeltas, activations, weightMatrix)\n",
    "updatedW"
   ]
  },
  {
   "cell_type": "code",
   "execution_count": 283,
   "metadata": {
    "scrolled": true
   },
   "outputs": [],
   "source": [
    "def updateWeights(learningRate, deltas, activations, weights):\n",
    "    #calculate the gradient\n",
    "    gradComponents = calcGradient(learningRate, deltas, activations, weights)\n",
    "    \n",
    "    #update all of the weights based on the gradient\n",
    "    newWeights = []\n",
    "    for layer in range(len(weights)):\n",
    "        weightsInLayer = weights[layer]\n",
    "        gradInLayer = gradComponents[layer]\n",
    "        \n",
    "        newWeights.append(gradInLayer + weightsInLayer)\n",
    "    return newWeights\n",
    "newWeights = updateWeights(.001, alldeltas, activations, weightMatrix)"
   ]
  },
  {
   "cell_type": "code",
   "execution_count": 294,
   "metadata": {},
   "outputs": [
    {
     "data": {
      "image/png": "[encoded data removed]",
      "text/plain": [
       "<Figure size 432x288 with 1 Axes>"
      ]
     },
     "metadata": {},
     "output_type": "display_data"
    },
    {
     "name": "stdout",
     "output_type": "stream",
     "text": [
      "last guess:  [0.99854062 0.89082565 0.98568348 0.01825831 0.69109544 0.05949501\n",
      " 0.26903473 0.18031908 0.07529502 0.99383619]\n",
      "actual vector:  [0.21097929 0.31070097 0.5823619  0.91421451 0.76385213 0.09663155\n",
      " 0.21134969 0.0860696  0.29906261 0.31482641]\n",
      "difference:  [ 0.78756134  0.58012468  0.40332157 -0.89595619 -0.07275669 -0.03713654\n",
      "  0.05768504  0.09424948 -0.22376759  0.67900978]\n"
     ]
    },
    {
     "data": {
      "text/plain": [
       "3.3268491907760223"
      ]
     },
     "execution_count": 294,
     "metadata": {},
     "output_type": "execute_result"
    }
   ],
   "source": [
    "def trainNetwork(patterns, learningRate, neuronsPerLayer, targets):\n",
    "    #Randomly initialize all weights in network\n",
    "    weights = []\n",
    "    errors = []\n",
    "    for layer in range(len(neuronsPerLayer) - 1):\n",
    "        weights.append(np.random.randn(neuronsPerLayer[layer], neuronsPerLayer[layer + 1]))\n",
    "    \n",
    "    #Initialize error plot\n",
    "    fig, ax = plt.subplots()\n",
    "    \n",
    "    #Loop through all input vectors, train the network, plot the error\n",
    "    for p in range(len(patterns)):\n",
    "        #forward pass through network, find all activations\n",
    "        activations, netOut = forwardprop(patterns[p], weights, neuronsPerLayer)\n",
    "        \n",
    "        #calculate deltas at output layer\n",
    "        deltaK = calcDelta(activations, targets[p])\n",
    "        \n",
    "        #calculate rest of deltas with backpropagation\n",
    "        allDeltas = backprop(activations, weights, deltaK)\n",
    "        \n",
    "        #update weights\n",
    "        weights = updateWeights(learningRate, allDeltas, activations, weights)\n",
    "        \n",
    "        #TODO: ideally(?) this should be sumOfSquareError(netOut, targets[p])\n",
    "        #calculate network error\n",
    "        error = sumOfSquareError(activations[-1], targets[p])\n",
    "        \n",
    "        #add to list of errors\n",
    "        errors.append(error)\n",
    "        \n",
    "\n",
    "    #plot the error\n",
    "    ax.plot(errors, marker= '.')\n",
    "    ax.set(xlabel = 'Iteration', ylabel= 'Sum of Squared Error', title= 'Network Error Graph')\n",
    "    plt.show()\n",
    "    \n",
    "    print(\"last guess: \", activations[-1])\n",
    "    print(\"actual vector: \", patterns[-1])\n",
    "    print(\"difference: \", (activations[-1] - patterns[-1]))\n",
    "    return error\n",
    "trainNetwork([inputVec], .001, [10, 10, 10], [targets])"
   ]
  },
  {
   "cell_type": "code",
   "execution_count": 295,
   "metadata": {
    "scrolled": true
   },
   "outputs": [
    {
     "name": "stdout",
     "output_type": "stream",
     "text": [
      "diff\n",
      "[[0.00042196 0.00052168 0.00079334 0.00112519 0.00097483 0.00030761\n",
      "  0.00042233 0.00029705 0.00051004 0.00052581]\n",
      " [0.00052168 0.0006214  0.00089306 0.00122492 0.00107455 0.00040733\n",
      "  0.00052205 0.00039677 0.00060976 0.00062553]\n",
      " [0.00079334 0.00089306 0.00116472 0.00149658 0.00134622 0.00067899\n",
      "  0.00079371 0.00066843 0.00088143 0.00089719]\n",
      " [0.00112519 0.00122492 0.00149658 0.00182843 0.00167807 0.00101085\n",
      "  0.00112557 0.00100029 0.00121328 0.00122904]\n",
      " [0.00097483 0.00107455 0.00134622 0.00167807 0.00152771 0.00086048\n",
      "  0.0009752  0.00084992 0.00106292 0.00107868]\n",
      " [0.00030761 0.00040733 0.00067899 0.00101085 0.00086048 0.00019326\n",
      "  0.00030798 0.0001827  0.0003957  0.00041146]\n",
      " [0.00042233 0.00052205 0.00079371 0.00112557 0.0009752  0.00030798\n",
      "  0.0004227  0.00029742 0.00051041 0.00052618]\n",
      " [0.00029705 0.00039677 0.00066843 0.00100029 0.00084992 0.0001827\n",
      "  0.00029742 0.00017214 0.00038513 0.0004009 ]\n",
      " [0.00051004 0.00060976 0.00088143 0.00121328 0.00106292 0.0003957\n",
      "  0.00051041 0.00038513 0.00059813 0.00061389]\n",
      " [0.00052581 0.00062553 0.00089719 0.00122904 0.00107868 0.00041146\n",
      "  0.00052618 0.0004009  0.00061389 0.00062965]]\n",
      "diff\n",
      "[[ 3.48228543e-06 -3.19838516e-05  2.26986206e-06  4.81639575e-05\n",
      "  -1.23391319e-05  1.87353753e-05  3.76022049e-05 -1.32352608e-06\n",
      "   1.89843306e-05 -2.59101411e-05]\n",
      " [ 3.42918314e-06 -1.53671014e-05 -3.44212032e-06  3.56665318e-05\n",
      "  -9.42897374e-06  1.26214426e-05  1.83795264e-05 -7.28471174e-07\n",
      "   1.43407316e-05 -1.62727966e-05]\n",
      " [ 4.19235732e-06 -2.06081840e-05 -3.56715465e-06  4.49323468e-05\n",
      "  -1.18347524e-05  1.60884322e-05  2.45755887e-05 -9.55501979e-07\n",
      "   1.80239130e-05 -2.09378725e-05]\n",
      " [ 7.48269203e-06 -2.38194033e-05 -1.09297194e-05  7.07431833e-05\n",
      "  -1.89354791e-05  2.40311324e-05  2.88750575e-05 -1.24339319e-06\n",
      "   2.86704201e-05 -2.99427715e-05]\n",
      " [ 7.67111383e-06 -2.86984362e-05 -9.69866213e-06  7.56454332e-05\n",
      "  -2.01344741e-05  2.61825655e-05  3.45500522e-05 -1.42722404e-06\n",
      "   3.05475696e-05 -3.31488443e-05]\n",
      " [ 5.83275951e-06 -2.76710851e-05 -5.31518645e-06  6.17838019e-05\n",
      "  -1.62966106e-05  2.20219558e-05  3.30344985e-05 -1.29370572e-06\n",
      "   2.48062239e-05 -2.85570771e-05]\n",
      " [ 9.54496165e-06 -2.17671992e-05 -1.69751525e-05  8.39559971e-05\n",
      "  -2.26999666e-05  2.75404966e-05  2.68697691e-05 -1.27895249e-06\n",
      "   3.42459533e-05 -3.32574782e-05]\n",
      " [ 6.89858119e-06 -2.91227221e-05 -7.55527860e-06  7.04446441e-05\n",
      "  -1.86661502e-05  2.47434701e-05  3.49029370e-05 -1.40162557e-06\n",
      "   2.83659646e-05 -3.17097535e-05]\n",
      " [ 8.70210484e-06 -2.28301265e-05 -1.44254506e-05  7.87193724e-05\n",
      "  -2.11992416e-05  2.61872163e-05  2.79485519e-05 -1.27240968e-06\n",
      "   3.20277329e-05 -3.20312078e-05]\n",
      " [ 6.70277377e-06 -1.73150562e-05 -1.12061313e-05  6.04366345e-05\n",
      "  -1.62831303e-05  2.00731470e-05  2.12153540e-05 -9.70454398e-07\n",
      "   2.45964476e-05 -2.45173604e-05]]\n",
      "diff\n",
      "[[ 2.42188374e-05  5.92530557e-06  3.24613457e-06 -2.40470381e-05\n",
      "   1.51642667e-04 -3.45561688e-07  2.03656175e-05 -9.46436960e-05\n",
      "  -3.90427985e-05 -1.30169803e-06]\n",
      " [ 1.45109320e-05  1.29520674e-05  7.18970221e-06 -1.11807004e-05\n",
      "   6.81778856e-05 -7.32465036e-07  8.97132169e-06 -4.42081420e-05\n",
      "  -1.86274448e-05 -8.24356912e-06]\n",
      " [ 1.77987477e-05  1.27535888e-06  6.67906936e-07 -1.87294695e-05\n",
      "   1.18872260e-04 -8.18768229e-08  1.60251307e-05 -7.36483220e-05\n",
      "  -3.02538008e-05  1.48780041e-06]\n",
      " [ 1.15389588e-05 -7.71509137e-06 -4.33202575e-06 -1.50744533e-05\n",
      "   9.76707760e-05  4.24279408e-07  1.33245172e-05 -5.91016094e-05\n",
      "  -2.39431110e-05  7.74551276e-06]\n",
      " [ 1.97936326e-05  1.46851334e-05  8.14355526e-06 -1.62746808e-05\n",
      "   1.00191832e-04 -8.32463862e-07  1.32621276e-05 -6.42664296e-05\n",
      "  -2.69202722e-05 -8.87728269e-06]\n",
      " [ 3.08302902e-06  4.17840219e-06  2.32334401e-06 -1.88579233e-06\n",
      "   1.10439151e-05 -2.35344703e-07  1.41583250e-06 -7.49614254e-06\n",
      "  -3.23456601e-06 -2.88393053e-06]\n",
      " [ 2.28666078e-05  4.85806500e-06  2.65409147e-06 -2.29571812e-05\n",
      "   1.44952323e-04 -2.85113860e-07  1.94815920e-05 -9.03383316e-05\n",
      "  -3.72361442e-05 -6.44423723e-07]\n",
      " [ 3.47227872e-06  4.45500513e-06  2.47669238e-06 -2.21002343e-06\n",
      "   1.30436240e-05 -2.51034424e-07  1.68082523e-06 -8.77616724e-06\n",
      "  -3.77014050e-06 -3.04883196e-06]\n",
      " [ 1.47420918e-05 -2.32339492e-06 -1.33214969e-06 -1.66731072e-05\n",
      "   1.06610753e-04  1.21058808e-07  1.44344986e-05 -6.54932576e-05\n",
      "  -2.67712225e-05  3.91528348e-06]\n",
      " [ 2.38285803e-05  5.23005371e-06  2.85924893e-06 -2.38654280e-05\n",
      "   1.50645965e-04 -3.06475380e-07  2.02435602e-05 -9.39159422e-05\n",
      "  -3.87176699e-05 -8.04594889e-07]]\n"
     ]
    }
   ],
   "source": [
    "#sanity check numerical differentiation\n",
    "\n",
    "#calculate f(x + 10**-6)\n",
    "errVec = inputVec + 10**-6\n",
    "activations1, netOut1 = forwardprop(errVec, weightMatrix, neuronsPerLayer)\n",
    "deltas1 = calcDelta(activations1, targets)\n",
    "alldeltas1 = backprop(activations1, weightMatrix, deltas1)\n",
    "updatedW1 = calcGradient(.001, alldeltas1, activations1, weightMatrix)\n",
    "\n",
    "for entry in range(len(updatedW1)):\n",
    "    #for each layer of network, return (f(x + 10**-6) - f(x)) / 10**-6\n",
    "    diff = (updatedW1[entry] - updatedW[entry])/ 10**-6\n",
    "    print(\"diff\")\n",
    "    print(diff)\n",
    "    "
   ]
  },
  {
   "cell_type": "code",
   "execution_count": 297,
   "metadata": {},
   "outputs": [
    {
     "data": {
      "image/png": "[encoded data removed]",
      "text/plain": [
       "<Figure size 432x288 with 1 Axes>"
      ]
     },
     "metadata": {},
     "output_type": "display_data"
    },
    {
     "name": "stdout",
     "output_type": "stream",
     "text": [
      "last guess:  [1.18476149e-018 9.94012502e-010 6.38361240e-005 1.00000000e+000\n",
      " 2.06487697e-008 1.00000000e+000 5.53590570e-118 1.08008167e-020\n",
      " 1.61670495e-007 1.00000000e+000]\n",
      "actual vector:  [-0.35784792 -0.21528855 -0.15429744  0.8339397  -0.16917721  0.17873882\n",
      " -2.5710332  -0.41497714 -0.15884044  1.64184479]\n",
      "difference:  [ 0.35784792  0.21528855  0.15436128  0.1660603   0.16917723  0.82126118\n",
      "  2.5710332   0.41497714  0.1588406  -0.64184479]\n"
     ]
    },
    {
     "data": {
      "text/plain": [
       "4.074255707417725"
      ]
     },
     "execution_count": 297,
     "metadata": {},
     "output_type": "execute_result"
    }
   ],
   "source": [
    "#test with dummy data\n",
    "num_tests = 10000\n",
    "inputData = []\n",
    "targetData = []\n",
    "\n",
    "vec = np.random.randn(10)\n",
    "#Generate data where targets are the same as the input vectors\n",
    "for test in range(num_tests):\n",
    "    inputData.append(vec)\n",
    "    targetData.append(vec)\n",
    "\n",
    "#moment of truth let's gooo\n",
    "trainNetwork(inputData, .001, [10, 10], targetData)"
   ]
  },
  {
   "cell_type": "code",
   "execution_count": 287,
   "metadata": {},
   "outputs": [
    {
     "data": {
      "text/plain": [
       "array([1.        , 2.71828183, 7.3890561 ])"
      ]
     },
     "execution_count": 287,
     "metadata": {},
     "output_type": "execute_result"
    }
   ],
   "source": [
    "np.exp(np.array([0., 1., 2.]))"
   ]
  },
  {
   "cell_type": "code",
   "execution_count": null,
   "metadata": {
    "collapsed": true
   },
   "outputs": [],
   "source": []
  }
 ],
 "metadata": {
  "kernelspec": {
   "display_name": "Python 3",
   "language": "python",
   "name": "python3"
  },
  "language_info": {
   "codemirror_mode": {
    "name": "ipython",
    "version": 3
   },
   "file_extension": ".py",
   "mimetype": "text/x-python",
   "name": "python",
   "nbconvert_exporter": "python",
   "pygments_lexer": "ipython3",
   "version": "3.6.3"
  }
 },
 "nbformat": 4,
 "nbformat_minor": 2
}
