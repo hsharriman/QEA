{
 "cells": [
  {
   "cell_type": "code",
   "execution_count": 4,
   "metadata": {
    "collapsed": true
   },
   "outputs": [],
   "source": [
    "import numpy as np\n",
    "import math\n",
    "import matplotlib\n",
    "import matplotlib.pyplot as plt\n",
    "import copy\n",
    "import feedforward as ff"
   ]
  },
  {
   "cell_type": "code",
   "execution_count": 16,
   "metadata": {},
   "outputs": [
    {
     "name": "stdout",
     "output_type": "stream",
     "text": [
      "100 784 100 [0. 1. 0. 0. 0. 0. 0. 0. 0. 0.] 1\n",
      "10 10\n",
      "100 100\n",
      "784 10\n"
     ]
    }
   ],
   "source": [
    "def makeBatches(patterns, targets, batchSize):\n",
    "    #returns list containing lists of batches. returns allpat[numBatches][batchSize][np.array(784,)]\n",
    "    #shuffle patterns and select first batch\n",
    "    allpat = []\n",
    "    alltar = []\n",
    "    \n",
    "    #shuffle the dataset\n",
    "    shuffIndex = np.random.permutation(len(patterns))\n",
    "    for bat in range(int(len(patterns) // batchSize)):\n",
    "        batchPat = []\n",
    "        batchTar = []\n",
    "        for i in range(batchSize):\n",
    "            index = shuffIndex[(i + batchSize*bat)]\n",
    "            #print(index, (i+batchSize*bat))\n",
    "            batchPat.append(patterns[index])\n",
    "            batchTar.append(targets[index])\n",
    "        allpat.append(batchPat)\n",
    "        alltar.append(batchTar)\n",
    "    \n",
    "    #if the dataset not evenly split by batches\n",
    "    if len(patterns) % batchSize != 0:\n",
    "        batchPat = []\n",
    "        batchTar = []\n",
    "        last = len(patterns) % batchSize\n",
    "        for i in range(last - 1, -1, -1):\n",
    "            index = shuffIndex[-(i + 1)]\n",
    "            #print(index, -(i + 1))\n",
    "            batchPat.append(patterns[index])\n",
    "            batchTar.append(targets[index])\n",
    "        allpat.append(batchPat)\n",
    "        alltar.append(batchTar)\n",
    "    return shuffIndex, allpat, alltar\n",
    "imgtr, tartr, imgte, tarte = ff.make_dataset(\"mnist_train_100.csv\", \"mnist_test_10.csv\")\n",
    "ind, pat, tar = makeBatches(imgtr, tartr, 2)\n",
    "#print(np.shape(pat[0][0]), np.shape(tar[2][0])[0], len(tar[2]))"
   ]
  },
  {
   "cell_type": "code",
   "execution_count": 3,
   "metadata": {},
   "outputs": [
    {
     "data": {
      "text/plain": [
       "0.5"
      ]
     },
     "execution_count": 3,
     "metadata": {},
     "output_type": "execute_result"
    }
   ],
   "source": [
    "def sumOfSquareErr(output, target):\n",
    "    return 0.5 * np.sum(np.power(output - target, 2))\n",
    "sumOfSquareErr(np.array([2., 2.]), np.array([1., 2.]))"
   ]
  },
  {
   "cell_type": "code",
   "execution_count": 67,
   "metadata": {},
   "outputs": [
    {
     "data": {
      "text/plain": [
       "(10, 784)"
      ]
     },
     "execution_count": 67,
     "metadata": {},
     "output_type": "execute_result"
    }
   ],
   "source": [
    "weights = []\n",
    "neuronsPerLayer = [784, 625, 625, 10]\n",
    "#Note: Think of multiplying a weight matrix with an activation vector.\n",
    "for layer in range(len(neuronsPerLayer) - 1):\n",
    "    weights.append(np.random.randn(neuronsPerLayer[layer + 1], neuronsPerLayer[layer]))\n",
    "np.shape(np.array(imgtr[:10]))"
   ]
  },
  {
   "cell_type": "code",
   "execution_count": 68,
   "metadata": {},
   "outputs": [
    {
     "name": "stdout",
     "output_type": "stream",
     "text": [
      "(625, 12)\n",
      "(625, 12)\n",
      "(10, 12)\n",
      "(784, 12) (10, 12)\n",
      "3 (10, 625)\n"
     ]
    }
   ],
   "source": [
    "def forward(inputs, weights):\n",
    "    #inputs must be 784 x n\n",
    "    hidden = [inputs.T]\n",
    "    for l in range(len(weights)):\n",
    "        if l == 0:\n",
    "            hidden.append(ff.sigmoid(weights[l] @ inputs.T))\n",
    "            print(np.shape(hidden[-1]))\n",
    "        elif l == len(weights) -1:\n",
    "            output = ff.softmax(weights[l] @ hidden[-1])\n",
    "            print(np.shape(output))\n",
    "        else:\n",
    "            hidden.append(ff.sigmoid(weights[l] @ hidden[-1]))\n",
    "            print(np.shape(hidden[-1]))\n",
    "    return hidden, output\n",
    "hid, out = forward(np.array(imgtr[:12]), weights)\n",
    "print(np.shape(hid[0]), np.shape(out))\n",
    "print(len(hid), np.shape(weights[-1]))"
   ]
  },
  {
   "cell_type": "code",
   "execution_count": 70,
   "metadata": {},
   "outputs": [
    {
     "ename": "ValueError",
     "evalue": "operands could not be broadcast together with shapes (12,625) (12,784) ",
     "output_type": "error",
     "traceback": [
      "\u001b[0;31m---------------------------------------------------------------------------\u001b[0m",
      "\u001b[0;31mValueError\u001b[0m                                Traceback (most recent call last)",
      "\u001b[0;32m<ipython-input-70-44e071aecc2c>\u001b[0m in \u001b[0;36m<module>\u001b[0;34m()\u001b[0m\n\u001b[1;32m      8\u001b[0m             \u001b[0mweights\u001b[0m\u001b[0;34m[\u001b[0m\u001b[0ml\u001b[0m\u001b[0;34m]\u001b[0m \u001b[0;34m=\u001b[0m \u001b[0;34m(\u001b[0m\u001b[0mweights\u001b[0m\u001b[0;34m[\u001b[0m\u001b[0;34m-\u001b[0m\u001b[0;36m1\u001b[0m\u001b[0;34m]\u001b[0m\u001b[0;34m.\u001b[0m\u001b[0mT\u001b[0m \u001b[0;34m@\u001b[0m \u001b[0moutputs\u001b[0m\u001b[0;34m)\u001b[0m\u001b[0;34m.\u001b[0m\u001b[0mT\u001b[0m \u001b[0;34m*\u001b[0m \u001b[0mff\u001b[0m\u001b[0;34m.\u001b[0m\u001b[0msigPrime\u001b[0m\u001b[0;34m(\u001b[0m\u001b[0mhid\u001b[0m\u001b[0;34m.\u001b[0m\u001b[0mT\u001b[0m\u001b[0;34m)\u001b[0m\u001b[0;34m\u001b[0m\u001b[0m\n\u001b[1;32m      9\u001b[0m     \u001b[0;32mreturn\u001b[0m \u001b[0mweights\u001b[0m\u001b[0;34m\u001b[0m\u001b[0m\n\u001b[0;32m---> 10\u001b[0;31m \u001b[0mweights\u001b[0m \u001b[0;34m=\u001b[0m \u001b[0mback\u001b[0m\u001b[0;34m(\u001b[0m\u001b[0mnp\u001b[0m\u001b[0;34m.\u001b[0m\u001b[0marray\u001b[0m\u001b[0;34m(\u001b[0m\u001b[0mimgtr\u001b[0m\u001b[0;34m[\u001b[0m\u001b[0;34m:\u001b[0m\u001b[0;36m12\u001b[0m\u001b[0;34m]\u001b[0m\u001b[0;34m)\u001b[0m\u001b[0;34m,\u001b[0m \u001b[0mhid\u001b[0m\u001b[0;34m,\u001b[0m \u001b[0mout\u001b[0m\u001b[0;34m,\u001b[0m \u001b[0mweights\u001b[0m\u001b[0;34m)\u001b[0m\u001b[0;34m\u001b[0m\u001b[0m\n\u001b[0m",
      "\u001b[0;32m<ipython-input-70-44e071aecc2c>\u001b[0m in \u001b[0;36mback\u001b[0;34m(inputs, activeHs, outputs, weights)\u001b[0m\n\u001b[1;32m      6\u001b[0m             \u001b[0mweights\u001b[0m\u001b[0;34m[\u001b[0m\u001b[0ml\u001b[0m\u001b[0;34m]\u001b[0m \u001b[0;34m=\u001b[0m \u001b[0mnp\u001b[0m\u001b[0;34m.\u001b[0m\u001b[0mtranspose\u001b[0m\u001b[0;34m(\u001b[0m\u001b[0mhid\u001b[0m \u001b[0;34m@\u001b[0m \u001b[0moutputs\u001b[0m\u001b[0;34m.\u001b[0m\u001b[0mT\u001b[0m\u001b[0;34m)\u001b[0m\u001b[0;34m\u001b[0m\u001b[0m\n\u001b[1;32m      7\u001b[0m         \u001b[0;32melse\u001b[0m\u001b[0;34m:\u001b[0m\u001b[0;34m\u001b[0m\u001b[0m\n\u001b[0;32m----> 8\u001b[0;31m             \u001b[0mweights\u001b[0m\u001b[0;34m[\u001b[0m\u001b[0ml\u001b[0m\u001b[0;34m]\u001b[0m \u001b[0;34m=\u001b[0m \u001b[0;34m(\u001b[0m\u001b[0mweights\u001b[0m\u001b[0;34m[\u001b[0m\u001b[0;34m-\u001b[0m\u001b[0;36m1\u001b[0m\u001b[0;34m]\u001b[0m\u001b[0;34m.\u001b[0m\u001b[0mT\u001b[0m \u001b[0;34m@\u001b[0m \u001b[0moutputs\u001b[0m\u001b[0;34m)\u001b[0m\u001b[0;34m.\u001b[0m\u001b[0mT\u001b[0m \u001b[0;34m*\u001b[0m \u001b[0mff\u001b[0m\u001b[0;34m.\u001b[0m\u001b[0msigPrime\u001b[0m\u001b[0;34m(\u001b[0m\u001b[0mhid\u001b[0m\u001b[0;34m.\u001b[0m\u001b[0mT\u001b[0m\u001b[0;34m)\u001b[0m\u001b[0;34m\u001b[0m\u001b[0m\n\u001b[0m\u001b[1;32m      9\u001b[0m     \u001b[0;32mreturn\u001b[0m \u001b[0mweights\u001b[0m\u001b[0;34m\u001b[0m\u001b[0m\n\u001b[1;32m     10\u001b[0m \u001b[0mweights\u001b[0m \u001b[0;34m=\u001b[0m \u001b[0mback\u001b[0m\u001b[0;34m(\u001b[0m\u001b[0mnp\u001b[0m\u001b[0;34m.\u001b[0m\u001b[0marray\u001b[0m\u001b[0;34m(\u001b[0m\u001b[0mimgtr\u001b[0m\u001b[0;34m[\u001b[0m\u001b[0;34m:\u001b[0m\u001b[0;36m12\u001b[0m\u001b[0;34m]\u001b[0m\u001b[0;34m)\u001b[0m\u001b[0;34m,\u001b[0m \u001b[0mhid\u001b[0m\u001b[0;34m,\u001b[0m \u001b[0mout\u001b[0m\u001b[0;34m,\u001b[0m \u001b[0mweights\u001b[0m\u001b[0;34m)\u001b[0m\u001b[0;34m\u001b[0m\u001b[0m\n",
      "\u001b[0;31mValueError\u001b[0m: operands could not be broadcast together with shapes (12,625) (12,784) "
     ]
    }
   ],
   "source": [
    "def back(inputs, activeHs, outputs, weights):\n",
    "    for l in range(len(weights) - 1, -1, -1):\n",
    "        hid = activeHs[l]\n",
    "        w = weights[l]\n",
    "        if l == len(weights) - 1:\n",
    "            weights[l] = np.transpose(hid @ outputs.T)\n",
    "        else:\n",
    "            weights[l] = (weights[-1].T @ outputs).T * ff.sigPrime(hid.T)\n",
    "    return weights\n",
    "weights = back(np.array(imgtr[:12]), hid, out, weights)"
   ]
  },
  {
   "cell_type": "code",
   "execution_count": null,
   "metadata": {
    "collapsed": true
   },
   "outputs": [],
   "source": [
    "def trainBatch(batch, learningRate, neuronsPerLayer, targets, *weights):\n",
    "    errors, deltaK, ins, xs  = [], [], [], []\n",
    "    batchLoss = []\n",
    "    numCorrect = 0\n",
    "    \n",
    "    if weights:\n",
    "        weights = weights[0]\n",
    "    \n",
    "    if not weights:\n",
    "        weights = []\n",
    "        #Note: Think of multiplying a weight matrix with an activation vector.\n",
    "        for layer in range(len(neuronsPerLayer) - 1):\n",
    "            weights.append(np.random.randn(neuronsPerLayer[layer + 1], neuronsPerLayer[layer]))\n",
    "    \n",
    "    #Loop through all input vectors, train the network, plot the error\n",
    "    for p in range(len(batch)):\n",
    "\n",
    "        #forward pass through network, find all activations\n",
    "        activations = ff.forwardprop(batch[p], weights)\n",
    "        \n",
    "        #summed output errors for batch\n",
    "        deltaK.append(activations[-1] - targets[p])\n",
    "        \n",
    "        \n",
    "        #calculate sum-of-squared loss\n",
    "        batchLoss.append(sumOfSquareErr(activations[-1], targets[p]))\n",
    "        \n",
    "        #calculate network error\n",
    "        error = ff.crossEntError(activations[-1], targets[p])\n",
    "        \n",
    "        #add to list of errors\n",
    "        errors.append(error)\n",
    "        \n",
    "        #Other check\n",
    "        if int(error) == 0:\n",
    "            numCorrect += 1\n",
    "        xs.append(batch(p))\n",
    "        ins.append(activations[:-1])\n",
    "\n",
    "    #calculate rest of deltas with backpropagation\n",
    "    allDeltas = ff.backprop(activations, weights, deltaK / len(batch))\n",
    "\n",
    "    #update weights\n",
    "    weights = ff.updateWeights(learningRate, allDeltas, activations, weights)\n",
    "\n",
    "    #calculate accuracy\n",
    "    acc = (numCorrect / len(batch)) * 100\n",
    "    \n",
    "    #calculate average error and loss\n",
    "    avgErr = np.average(np.asarray(errors))\n",
    "    avgLoss = np.average(np.asarray(batchLoss))\n",
    "\n",
    "    return weights, avgErr, avgLoss, acc\n",
    "test, err, loss, acc = trainBatch([inputVec], .001, [10, 10, 10], [targets])"
   ]
  },
  {
   "cell_type": "code",
   "execution_count": null,
   "metadata": {
    "collapsed": true
   },
   "outputs": [],
   "source": [
    "def train_stochastically(allpats, alltargs, learningRate, neuronsPerLayer, *weights):\n",
    "    #takes pre-shuffled and separated batches, trains network in batches\n",
    "    errors = []\n",
    "    losses = []\n",
    "    accs = []\n",
    "    \n",
    "    #Initialize error plot\n",
    "    fig, ax = plt.subplots()\n",
    "    \n",
    "    #first batch\n",
    "    for batch in range(len(allpats)):\n",
    "        if batch == 0:\n",
    "            weights, err, loss, acc = trainBatch(allpats[batch], learningRate, neuronsPerLayer, alltargs[batch])\n",
    "        else:\n",
    "            weights, err, loss, acc = trainBatch(allpats[batch], learningRate, neuronsPerLayer, alltargs[batch], weights)\n",
    "        errors.append(err)\n",
    "        losses.append(loss)\n",
    "        accs.append(acc)\n",
    "        print(\"[Batch: \", batch, \" Cross-ent Error: \", err, \" Loss: \", loss, \" Accuracy: \", acc, \"%]\")\n",
    "        \n",
    "    #plot the error\n",
    "    ax.plot(errors, marker= '.')\n",
    "    ax.set(xlabel = 'Iteration', ylabel= 'Cross Entropy Error', title= 'Network Error Graph')\n",
    "    plt.show()\n",
    "\n",
    "    return weights, errors, losses, acc\n",
    "weights, err, loss, acc = train_stochastically(pat, tar, .05, [784, 625, 625, 10])\n",
    "weights, err, loss, acc = train_stochastically(pat, tar, .05, [784, 625, 625, 10], weights)\n",
    "weights, err, loss, acc = train_stochastically(pat, tar, .05, [784, 625, 625, 10], weights)\n",
    "weights, err, loss, acc = train_stochastically(pat, tar, .05, [784, 625, 625, 10], weights)"
   ]
  },
  {
   "cell_type": "code",
   "execution_count": 5,
   "metadata": {},
   "outputs": [
    {
     "data": {
      "text/plain": [
       "[0, 1, 2, 2, 3]"
      ]
     },
     "execution_count": 5,
     "metadata": {},
     "output_type": "execute_result"
    }
   ],
   "source": [
    "t = [0, 1, 2, 2, 3, 4]\n",
    "t[:-1]"
   ]
  },
  {
   "cell_type": "code",
   "execution_count": null,
   "metadata": {
    "collapsed": true
   },
   "outputs": [],
   "source": []
  }
 ],
 "metadata": {
  "kernelspec": {
   "display_name": "Python 3",
   "language": "python",
   "name": "python3"
  },
  "language_info": {
   "codemirror_mode": {
    "name": "ipython",
    "version": 3
   },
   "file_extension": ".py",
   "mimetype": "text/x-python",
   "name": "python",
   "nbconvert_exporter": "python",
   "pygments_lexer": "ipython3",
   "version": "3.6.3"
  }
 },
 "nbformat": 4,
 "nbformat_minor": 2
}
