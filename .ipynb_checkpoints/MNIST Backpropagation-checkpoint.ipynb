{
 "cells": [
  {
   "cell_type": "markdown",
   "metadata": {},
   "source": [
    "# Backpropagation Notebook\n",
    "Design Your Own Adventure Project: QEA Spring 2018  \n",
    "Hwei-Shin Harriman"
   ]
  },
  {
   "cell_type": "code",
   "execution_count": 6,
   "metadata": {
    "collapsed": true
   },
   "outputs": [],
   "source": [
    "import numpy as np\n",
    "import math\n",
    "import matplotlib\n",
    "import matplotlib.pyplot as plt\n",
    "import copy"
   ]
  },
  {
   "cell_type": "code",
   "execution_count": 7,
   "metadata": {
    "collapsed": true
   },
   "outputs": [],
   "source": [
    "def sigmoid(aj):\n",
    "    #Calculates the sigmoid function using logistic\n",
    "    return 1 / (1 + np.exp(-aj))"
   ]
  },
  {
   "cell_type": "code",
   "execution_count": 8,
   "metadata": {
    "collapsed": true
   },
   "outputs": [],
   "source": [
    "def sigPrime(z):\n",
    "    return (z * (1 - z))"
   ]
  },
  {
   "cell_type": "code",
   "execution_count": 9,
   "metadata": {
    "collapsed": true
   },
   "outputs": [],
   "source": [
    "def calcAj(weights, prevLayerOut):    \n",
    "    #Calculates the sum of the weights and outputs from previous \n",
    "    #prevLayerOut and weights must be np arrays\n",
    "    #weights should be one ROW of the weights matrix\n",
    "    #prevLayerOut should be a ROW vector\n",
    "    return np.dot(weights, prevLayerOut)"
   ]
  },
  {
   "cell_type": "code",
   "execution_count": 10,
   "metadata": {
    "collapsed": true
   },
   "outputs": [],
   "source": [
    "#given matrix of weights, number of nodes per hidden layer,\n",
    "#and an input vector of data, propagate forward for one layer\n",
    "\n",
    "def calcLayerOutputs(inputVec, weights):\n",
    "    #define vector of output activations for all units in current layer\n",
    "    \n",
    "    return sigmoid(np.matmul(weights, inputVec))"
   ]
  },
  {
   "cell_type": "code",
   "execution_count": 11,
   "metadata": {
    "collapsed": true
   },
   "outputs": [],
   "source": [
    "def sumOfSquareError(netOutput, target):\n",
    "    #Takes 2 vectors of same dimensions, returns the sum-of-squares error\n",
    "    return 0.5 * np.sum(np.power(netOutput - target, 2))"
   ]
  },
  {
   "cell_type": "code",
   "execution_count": 12,
   "metadata": {
    "collapsed": true
   },
   "outputs": [],
   "source": [
    "def calcDelta(netOutput, target):\n",
    "    #Takes 2 np arrays, all activations from forward prop and actual target\n",
    "    #returns delta value for each output neuron\n",
    "    #assumes netOutput's last entry is activations of output layer\n",
    "    sigOutk = []\n",
    "    guesses = netOutput[-1]\n",
    "    for k in range(len(guesses)):\n",
    "        sigOutk.append(sigPrime(guesses[k]))\n",
    "    return np.asarray(sigOutk) * (guesses - target)"
   ]
  },
  {
   "cell_type": "code",
   "execution_count": 13,
   "metadata": {
    "collapsed": true
   },
   "outputs": [],
   "source": [
    "#neuronsPerLayer = array with number of neurons in each hidden/output layer\n",
    "def forwardprop(inputVec, weights):\n",
    "    #calculates outputs for all neurons in network\n",
    "    activations = [inputVec]\n",
    "    \n",
    "    #dynamically calculates activations for all nodes in network\n",
    "    for layer in range(len(weights)):\n",
    "        weightsInLayer = weights[layer]\n",
    "        \n",
    "        #calculates all activations for current layer\n",
    "        layerActivations = calcLayerOutputs(activations[layer], weightsInLayer[:, :])\n",
    "            \n",
    "        #adds resulting np array to list\n",
    "        activations.append(layerActivations)\n",
    "    #should be number of layers * j (neurons per layer) activations\n",
    "    return activations"
   ]
  },
  {
   "cell_type": "code",
   "execution_count": 14,
   "metadata": {
    "collapsed": true
   },
   "outputs": [],
   "source": [
    "def backprop(activations, weights, deltaK):\n",
    "    #calculates deltas for hidden units\n",
    "    allDeltas = [deltaK]\n",
    "\n",
    "    # The index goes from n-2 to 0.\n",
    "    # The deltas vectors are indexed like the list of weight matrices.\n",
    "    # The deltas for n-1 (the last weight matrix) are already computed.\n",
    "    for layer in range(len(weights) - 2, -1, -1):\n",
    "        #fetches activations from previous layer\n",
    "        zj = activations[layer + 1] #Using the activations of the next layer\n",
    "        weightsInLayer = weights[layer + 1] #and the weights of the next layer\n",
    "        \n",
    "        #one matrix-vector multiplication and one element-wise vector multiplication\n",
    "        deltaJs = np.matmul(np.transpose(weightsInLayer), allDeltas[0]) * sigPrime(zj)\n",
    "        \n",
    "        #builds list of deltas to have same indexing as weights matrix\n",
    "        allDeltas.insert(0, deltaJs)\n",
    "\n",
    "    return allDeltas"
   ]
  },
  {
   "cell_type": "code",
   "execution_count": 15,
   "metadata": {},
   "outputs": [
    {
     "name": "stdout",
     "output_type": "stream",
     "text": [
      "[array([0.49212461, 0.21942416, 0.71712903, 0.26395214, 0.73966679,\n",
      "       0.44134703, 0.42889014, 0.0880978 , 0.53753998, 0.15639339]), array([0.13735261, 0.75342846, 0.31300696, 0.57476135, 0.03647972,\n",
      "       0.91471387, 0.86094342, 0.8368227 , 0.58216637, 0.7184479 ]), array([0.85313609, 0.09340098, 0.68216502, 0.76245707, 0.25120394,\n",
      "       0.24223824, 0.87069691, 0.11923708, 0.6880151 , 0.05653658]), array([0.02543523, 0.76619604, 0.05068224, 0.67236701, 0.03597486,\n",
      "       0.42357209, 0.11913358, 0.25631686, 0.89895854, 0.20773777])]\n"
     ]
    }
   ],
   "source": [
    "#testing functionality of forward propagation\n",
    "\n",
    "#generate random vector and weight matrix\n",
    "inputVec = np.random.rand(10)\n",
    "numLayers = 3\n",
    "weightMatrix = []\n",
    "for layer in range(numLayers):\n",
    "    weightMatrix.append(np.random.randn(10, 10))\n",
    "activations = forwardprop(inputVec, weightMatrix)\n",
    "\n",
    "#first entry of activations is the input vector\n",
    "print(activations)"
   ]
  },
  {
   "cell_type": "code",
   "execution_count": 16,
   "metadata": {},
   "outputs": [
    {
     "data": {
      "text/plain": [
       "array([ 0.0006305 ,  0.1372561 ,  0.0024385 , -0.07217415, -0.03343304,\n",
       "       -0.14073993,  0.01250197,  0.04885874, -0.00917781,  0.03419006])"
      ]
     },
     "execution_count": 16,
     "metadata": {},
     "output_type": "execute_result"
    }
   ],
   "source": [
    "#test functionality of deltas function\n",
    "targets = np.array([0., 0., 0., 1., 1., 1. , 0., 0., 1., 0.])\n",
    "\n",
    "deltas = calcDelta(activations, targets)\n",
    "deltas"
   ]
  },
  {
   "cell_type": "code",
   "execution_count": 17,
   "metadata": {},
   "outputs": [
    {
     "data": {
      "text/plain": [
       "[array([ 0.00302353, -0.00957438,  0.0019113 , -0.0231598 ,  0.00051532,\n",
       "         0.0011216 ,  0.00622317,  0.01219558,  0.03402735, -0.01371702]),\n",
       " array([ 0.00385517,  0.00302471,  0.05296329,  0.01143838,  0.00582067,\n",
       "        -0.03279564,  0.0042119 , -0.01743569, -0.0365394 ,  0.00705376]),\n",
       " array([ 0.0006305 ,  0.1372561 ,  0.0024385 , -0.07217415, -0.03343304,\n",
       "        -0.14073993,  0.01250197,  0.04885874, -0.00917781,  0.03419006])]"
      ]
     },
     "execution_count": 17,
     "metadata": {},
     "output_type": "execute_result"
    }
   ],
   "source": [
    "#test functionality of backprop\n",
    "alldeltas = backprop(activations, weightMatrix, deltas)\n",
    "alldeltas"
   ]
  },
  {
   "cell_type": "code",
   "execution_count": 38,
   "metadata": {},
   "outputs": [
    {
     "data": {
      "text/plain": [
       "[array([[ 1.48795167e-06,  6.63434693e-07,  2.16825841e-06,\n",
       "          7.98066213e-07,  2.23640194e-06,  1.33442432e-06,\n",
       "          1.29676057e-06,  2.66365996e-07,  1.62526624e-06,\n",
       "          4.72859511e-07],\n",
       "        [-4.71179047e-06, -2.10085134e-06, -6.86606931e-06,\n",
       "         -2.52717937e-06, -7.08185455e-06, -4.22562636e-06,\n",
       "         -4.10635924e-06, -8.43482206e-07, -5.14661471e-06,\n",
       "         -1.49737050e-06],\n",
       "        [ 9.40595517e-07,  4.19384385e-07,  1.37064542e-06,\n",
       "          5.04490512e-07,  1.41372174e-06,  8.43544558e-07,\n",
       "          8.19735750e-07,  1.68380913e-07,  1.02739771e-06,\n",
       "          2.98913966e-07],\n",
       "        [-1.13975056e-05, -5.08181870e-06, -1.66085619e-05,\n",
       "         -6.11307767e-06, -1.71305319e-05, -1.02215072e-05,\n",
       "         -9.93300802e-06, -2.04032697e-06, -1.24493163e-05,\n",
       "         -3.62203896e-06],\n",
       "        [ 2.53599275e-07,  1.13072595e-07,  3.69547460e-07,\n",
       "          1.36018539e-07,  3.81161512e-07,  2.27432817e-07,\n",
       "          2.21013590e-07,  4.53981299e-08,  2.77002504e-07,\n",
       "          8.05918843e-08],\n",
       "        [ 5.51968530e-07,  2.46106832e-07,  8.04334194e-07,\n",
       "          2.96049558e-07,  8.29612623e-07,  4.95016234e-07,\n",
       "          4.81044539e-07,  9.88107677e-08,  6.02906554e-07,\n",
       "          1.75411322e-07],\n",
       "        [ 3.06257650e-06,  1.36551444e-06,  4.46281783e-06,\n",
       "          1.64261977e-06,  4.60307424e-06,  2.74657884e-06,\n",
       "          2.66905742e-06,  5.48247805e-07,  3.34520420e-06,\n",
       "          9.73263078e-07],\n",
       "        [ 6.00174681e-06,  2.67600563e-06,  8.74580690e-06,\n",
       "          3.21905035e-06,  9.02066810e-06,  5.38248458e-06,\n",
       "          5.23056546e-06,  1.07440402e-06,  6.55561376e-06,\n",
       "          1.90730863e-06],\n",
       "        [ 1.67456987e-05,  7.46642358e-06,  2.44020035e-05,\n",
       "          8.98159299e-06,  2.51689041e-05,  1.50178719e-05,\n",
       "          1.45939967e-05,  2.99773493e-06,  1.82910636e-05,\n",
       "          5.32165327e-06],\n",
       "        [-6.75048328e-06, -3.00984560e-06, -9.83687335e-06,\n",
       "         -3.62063683e-06, -1.01460243e-05, -6.05396617e-06,\n",
       "         -5.88309467e-06, -1.20843925e-06, -7.37344684e-06,\n",
       "         -2.14525127e-06]]),\n",
       " array([[ 5.29518108e-07,  2.90459728e-06,  1.20669605e-06,\n",
       "          2.21580459e-06,  1.40635651e-07,  3.52638047e-06,\n",
       "          3.31908606e-06,  3.22609651e-06,  2.24435223e-06,\n",
       "          2.76974114e-06],\n",
       "        [ 4.15451526e-07,  2.27890105e-06,  9.46754620e-07,\n",
       "          1.73848521e-06,  1.10340506e-07,  2.76674230e-06,\n",
       "          2.60410239e-06,  2.53114426e-06,  1.76088324e-06,\n",
       "          2.17309506e-06],\n",
       "        [ 7.27464636e-06,  3.99040519e-05,  1.65778788e-05,\n",
       "          3.04412531e-05,  1.93208619e-06,  4.84462579e-05,\n",
       "          4.55983978e-05,  4.43208851e-05,  3.08334476e-05,\n",
       "          3.80513659e-05],\n",
       "        [ 1.57109144e-06,  8.61800164e-06,  3.58029272e-06,\n",
       "          6.57433912e-06,  4.17268954e-07,  1.04628455e-05,\n",
       "          9.84779861e-06,  9.57189664e-06,  6.65904060e-06,\n",
       "          8.21788060e-06],\n",
       "        [ 7.99483820e-07,  4.38545631e-06,  1.82190930e-06,\n",
       "          3.34549449e-06,  2.12336322e-07,  5.32424497e-06,\n",
       "          5.01126507e-06,  4.87086639e-06,  3.38859667e-06,\n",
       "          4.18184608e-06],\n",
       "        [-4.50456641e-06, -2.47091670e-05, -1.02652627e-05,\n",
       "         -1.88496649e-05, -1.19637576e-06, -2.99986247e-05,\n",
       "         -2.82351884e-05, -2.74441341e-05, -1.90925174e-05,\n",
       "         -2.35619570e-05],\n",
       "        [ 5.78515796e-07,  3.17336722e-06,  1.31835477e-06,\n",
       "          2.42083875e-06,  1.53649034e-07,  3.85268562e-06,\n",
       "          3.62620972e-06,  3.52461561e-06,  2.45202799e-06,\n",
       "          3.02603249e-06],\n",
       "        [-2.39483725e-06, -1.31365437e-05, -5.45749163e-06,\n",
       "         -1.00213596e-05, -6.36049061e-07, -1.59486657e-05,\n",
       "         -1.50111409e-05, -1.45905796e-05, -1.01504712e-05,\n",
       "         -1.25266335e-05],\n",
       "        [-5.01878165e-06, -2.75298225e-05, -1.14370857e-05,\n",
       "         -2.10014336e-05, -1.33294710e-06, -3.34230942e-05,\n",
       "         -3.14583542e-05, -3.05769977e-05, -2.12720087e-05,\n",
       "         -2.62516537e-05],\n",
       "        [ 9.68852903e-07,  5.31450665e-06,  2.20787722e-06,\n",
       "          4.05423096e-06,  2.57319356e-07,  6.45217586e-06,\n",
       "          6.07289177e-06,  5.90274991e-06,  4.10646425e-06,\n",
       "          5.06776199e-06]]),\n",
       " array([[ 5.37898591e-07,  5.88889083e-08,  4.30102076e-07,\n",
       "          4.80725866e-07,  1.58382989e-07,  1.52730159e-07,\n",
       "          5.48970610e-07,  7.51784596e-08,  4.33790527e-07,\n",
       "          3.56460650e-08],\n",
       "        [ 1.17098135e-04,  1.28198539e-05,  9.36313125e-05,\n",
       "          1.04651887e-04,  3.44792736e-05,  3.32486776e-05,\n",
       "          1.19508465e-04,  1.63660169e-05,  9.44342720e-05,\n",
       "          7.75999011e-06],\n",
       "        [ 2.08037430e-06,  2.27758491e-07,  1.66346096e-06,\n",
       "          1.85925331e-06,  6.12561374e-07,  5.90698512e-07,\n",
       "          2.12319640e-06,  2.90759891e-07,  1.67772640e-06,\n",
       "          1.37864569e-07],\n",
       "        [-6.15743679e-05, -6.74113554e-06, -4.92346772e-05,\n",
       "         -5.50296875e-05, -1.81304294e-05, -1.74833382e-05,\n",
       "         -6.28418050e-05, -8.60583428e-06, -4.96569018e-05,\n",
       "         -4.08047903e-06],\n",
       "        [-2.85229295e-05, -3.12267816e-06, -2.28068476e-05,\n",
       "         -2.54912547e-05, -8.39851024e-06, -8.09875993e-06,\n",
       "         -2.91100410e-05, -3.98645756e-06, -2.30024336e-05,\n",
       "         -1.89018937e-06],\n",
       "        [-1.20070316e-04, -1.31452470e-05, -9.60078590e-05,\n",
       "         -1.07308157e-04, -3.53544252e-05, -3.40925942e-05,\n",
       "         -1.22541824e-04, -1.67814186e-05, -9.68311992e-05,\n",
       "         -7.95695389e-06],\n",
       "        [ 1.06658821e-05,  1.16769623e-06,  8.52840689e-06,\n",
       "          9.53221577e-06,  3.14054419e-06,  3.02845537e-06,\n",
       "          1.08854270e-05,  1.49069844e-06,  8.60154445e-06,\n",
       "          7.06818599e-07],\n",
       "        [ 4.16831576e-05,  4.56345431e-06,  3.33297259e-05,\n",
       "          3.72526948e-05,  1.22735088e-05,  1.18354563e-05,\n",
       "          4.25411571e-05,  5.82577392e-06,  3.36155536e-05,\n",
       "          2.76230608e-06],\n",
       "        [-7.82991723e-06, -8.57215998e-07, -6.26077798e-06,\n",
       "         -6.99768284e-06, -2.30550091e-06, -2.22321553e-06,\n",
       "         -7.99108701e-06, -1.09433474e-06, -6.31446890e-06,\n",
       "         -5.18881706e-07],\n",
       "        [ 2.91687756e-05,  3.19338511e-06,  2.33232642e-05,\n",
       "          2.60684544e-05,  8.58867812e-06,  8.28214055e-06,\n",
       "          2.97691811e-05,  4.07672312e-06,  2.35232788e-05,\n",
       "          1.93298902e-06]])]"
      ]
     },
     "execution_count": 38,
     "metadata": {},
     "output_type": "execute_result"
    }
   ],
   "source": [
    "def calcGradient(learningRate, deltas, activations, weights):\n",
    "    #for each layer, for each weight @ every node, calculate the gradient\n",
    "    gradient = []\n",
    "    for layer in range(len(weights) -1, -1, -1):\n",
    "        deltaKs = deltas[layer]\n",
    "        outJs = activations[layer]\n",
    "        weightDims = weights[layer]\n",
    "        \n",
    "        #pre-allocate array to fill with gradient values. Annoyingly defined by [0] * columns * rows\n",
    "        weightsInLayer = np.array([[0.] * weightDims.shape[1]] * weightDims.shape[0])\n",
    "\n",
    "        for k in range(len(deltaKs)):\n",
    "            for j in range(len(outJs)):\n",
    "                #Note: [k, j] row by column. Think of matrix multiplication.\n",
    "                weightsInLayer[k,j] =  learningRate * deltaKs[k] * outJs[j]\n",
    "        \n",
    "        gradient.insert(0, weightsInLayer)\n",
    "    return gradient\n",
    "updatedW = calcGradient(.001, alldeltas, activations, weightMatrix)\n",
    "updatedW"
   ]
  },
  {
   "cell_type": "code",
   "execution_count": 19,
   "metadata": {
    "collapsed": true,
    "scrolled": true
   },
   "outputs": [],
   "source": [
    "def updateWeights(learningRate, deltas, activations, weights):\n",
    "    #calculate the gradient\n",
    "    gradComponents = calcGradient(learningRate, deltas, activations, weights)\n",
    "    \n",
    "    #update all of the weights based on the gradient\n",
    "    newWeights = []\n",
    "    for layer in range(len(weights)):\n",
    "        weightsInLayer = weights[layer]\n",
    "        gradInLayer = gradComponents[layer]\n",
    "        \n",
    "        #subtract the gradient components from the weights\n",
    "        newWeights.append(weightsInLayer - gradInLayer)\n",
    "    return newWeights\n",
    "newWeights = updateWeights(.001, alldeltas, activations, weightMatrix)"
   ]
  },
  {
   "cell_type": "code",
   "execution_count": 20,
   "metadata": {
    "collapsed": true
   },
   "outputs": [],
   "source": [
    "#PS\n",
    "def gradientCheck(weights, inputVec, target):\n",
    "    # weights is the list of weight matrices\n",
    "    # inputVec and target is a single training pair\n",
    "\n",
    "    # Compute error and gradient with current weights\n",
    "    activations = forwardprop(inputVec, weights)\n",
    "    deltaK = calcDelta(activations, target)\n",
    "    deltas = backprop(activations, weights, deltaK)\n",
    "    gradComponents = calcGradient(1, deltas, activations, weights)\n",
    "    error = sumOfSquareError(activations[-1], target)\n",
    "    \n",
    "    # Check each component of the gradient via numerical differentiation\n",
    "    # WARNING: Very slow\n",
    "    eps = 1e-9\n",
    "    for layer in range(len(weights)):\n",
    "        for j in range(weights[layer].shape[0]):\n",
    "            for k in range(weights[layer].shape[1]):\n",
    "                # Add / subtract a small number to the current weight\n",
    "                weights1 = copy.deepcopy(weights)\n",
    "                weights2 = copy.deepcopy(weights)\n",
    "                weights1[layer][j, k] += eps\n",
    "                weights2[layer][j, k] -= eps\n",
    "                \n",
    "                # Compute the new error\n",
    "                activations1 = forwardprop(inputVec, weights1)\n",
    "                activations2 = forwardprop(inputVec, weights2)\n",
    "                error1 = sumOfSquareError(activations1[-1], target)\n",
    "                error2 = sumOfSquareError(activations2[-1], target)\n",
    "                \n",
    "                # Check gradient component vs central difference\n",
    "                numGrad = (error1 - error2) / (2*eps)\n",
    "                grad = gradComponents[layer][j, k]\n",
    "                if (abs(grad - numGrad) > 1e-4):\n",
    "                    print(\"[\", layer, \", \", j, \", \", k, \"]\")\n",
    "                    print(\"ERROR: Wrong gradient component\")\n",
    "                    print(\"Should be \", numGrad)\n",
    "                    print(\"Is \", grad)"
   ]
  },
  {
   "cell_type": "code",
   "execution_count": 40,
   "metadata": {},
   "outputs": [
    {
     "name": "stdout",
     "output_type": "stream",
     "text": [
      "2 (10,)\n"
     ]
    },
    {
     "data": {
      "image/png": "[encoded data removed]",
      "text/plain": [
       "<Figure size 432x288 with 1 Axes>"
      ]
     },
     "metadata": {},
     "output_type": "display_data"
    },
    {
     "name": "stdout",
     "output_type": "stream",
     "text": [
      "last guess:  [0.60819056 0.97116087 0.56778668 0.9828804  0.29542844 0.06901541\n",
      " 0.22538471 0.01354051 0.31529595 0.86809217]\n",
      "actual vector:  [0. 0. 0. 1. 1. 1. 0. 0. 1. 0.]\n",
      "difference:  [ 0.60819056  0.97116087  0.56778668 -0.0171196  -0.70457156 -0.93098459\n",
      "  0.22538471  0.01354051 -0.68470405  0.86809217]\n"
     ]
    },
    {
     "data": {
      "text/plain": [
       "2.1361313150912724"
      ]
     },
     "execution_count": 40,
     "metadata": {},
     "output_type": "execute_result"
    }
   ],
   "source": [
    "def trainNetwork(patterns, learningRate, neuronsPerLayer, targets):\n",
    "    #Randomly initialize all weights in network\n",
    "    weights = []\n",
    "    errors = []\n",
    "    #Note: Think of multiplying a weight matrix with an activation vector.\n",
    "    for layer in range(len(neuronsPerLayer) - 1):\n",
    "        weights.append(np.random.randn(neuronsPerLayer[layer + 1], neuronsPerLayer[layer]))\n",
    "    \n",
    "    #Initialize error plot\n",
    "    fig, ax = plt.subplots()\n",
    "    \n",
    "    #Loop through all input vectors, train the network, plot the error\n",
    "    for p in range(len(patterns)):\n",
    "        #PS: Enable this to check if the forward and backward pass are still consistent.\n",
    "        #    Warning, it's very slow. Use a small network.\n",
    "        #gradientCheck(weights, patterns[p], targets[p])\n",
    "        \n",
    "        #forward pass through network, find all activations\n",
    "        activations = forwardprop(patterns[p], weights)\n",
    "        \n",
    "        #calculate deltas at output layer\n",
    "        deltaK = calcDelta(activations, targets[p])\n",
    "        \n",
    "        #calculate rest of deltas with backpropagation\n",
    "        allDeltas = backprop(activations, weights, deltaK)\n",
    "        \n",
    "        \n",
    "        #update weights\n",
    "        weights = updateWeights(learningRate, allDeltas, activations, weights)\n",
    "        \n",
    "        #calculate network error\n",
    "        error = sumOfSquareError(activations[-1], targets[p])\n",
    "        \n",
    "        #add to list of errors\n",
    "        errors.append(error)\n",
    "        \n",
    "    print(len(allDeltas), allDeltas[1].shape)\n",
    "    #plot the error\n",
    "    ax.plot(errors, marker= '.')\n",
    "    ax.set(xlabel = 'Iteration', ylabel= 'Sum of Squared Error', title= 'Network Error Graph')\n",
    "    plt.show()\n",
    "    \n",
    "    print(\"last guess: \", activations[-1])\n",
    "    print(\"actual vector: \", targets[-1])\n",
    "    print(\"difference: \", (activations[-1] - targets[-1]))\n",
    "    return error\n",
    "trainNetwork([inputVec], .001, [10, 10, 10], [targets])"
   ]
  },
  {
   "cell_type": "code",
   "execution_count": 25,
   "metadata": {},
   "outputs": [
    {
     "name": "stdout",
     "output_type": "stream",
     "text": [
      "2 (10,)\n"
     ]
    },
    {
     "data": {
      "image/png": "[encoded data removed]",
      "text/plain": [
       "<Figure size 432x288 with 1 Axes>"
      ]
     },
     "metadata": {},
     "output_type": "display_data"
    },
    {
     "name": "stdout",
     "output_type": "stream",
     "text": [
      "last guess:  [0.9499698  0.90622322 0.95665517 0.16233606 0.25125983 0.12204846\n",
      " 0.0510888  0.97500708 0.94246423 0.62258957]\n",
      "actual vector:  [ 1.56707284  1.10207071  0.85126658  0.08150434  0.29511758  0.01336174\n",
      " -0.38635799  1.80230814  1.29502889  0.60113782]\n",
      "difference:  [-0.61710304 -0.19584749  0.10538859  0.08083173 -0.04385775  0.10868672\n",
      "  0.43744679 -0.82730106 -0.35256466  0.02145175]\n"
     ]
    },
    {
     "data": {
      "text/plain": [
       "0.725548993820155"
      ]
     },
     "execution_count": 25,
     "metadata": {},
     "output_type": "execute_result"
    }
   ],
   "source": [
    "#test with dummy data\n",
    "num_tests = 10000\n",
    "inputData = []\n",
    "targetData = []\n",
    "\n",
    "vec = np.random.randn(10)\n",
    "#Generate data where targets are the same as the input vectors\n",
    "for test in range(num_tests):\n",
    "    inputData.append(vec)\n",
    "    targetData.append(vec)\n",
    "\n",
    "#moment of truth let's gooo\n",
    "trainNetwork(inputData, .001, [10, 10, 10], targetData)"
   ]
  },
  {
   "cell_type": "markdown",
   "metadata": {},
   "source": [
    "## MNIST Feed-Forward Implementation\n",
    "\n",
    "Feed-forward neural network with one input layer, one hidden layer with 625 units, and one output layer of 10 units. Logistic sigmoid function is used as the activation function for all layers, error function is sum-of-squared. Learning rate is currently .05, stochastic gradient descent is not implemented. Takes a while to run, so only use the small MNIST dataset. See Softmax notebook for implementation of epochs, softmax transfer and cross entropy error."
   ]
  },
  {
   "cell_type": "code",
   "execution_count": 23,
   "metadata": {},
   "outputs": [
    {
     "name": "stdout",
     "output_type": "stream",
     "text": [
      "100 784 100 [0. 1. 0. 0. 0. 0. 0. 0. 0. 0.] 1\n",
      "10 784 10 [0. 0. 0. 0. 0. 0. 0. 0. 0. 1.] 9\n"
     ]
    }
   ],
   "source": [
    "def make_dataset(trainfile, testfile):\n",
    "    #Takes name of training set and test set, breaks into input vectors and targets\n",
    "    #Initializes arrays that will contain data set\n",
    "    imgtr = []\n",
    "    tartr = []\n",
    "    imgte = []\n",
    "    tarte = []\n",
    "    numOutputs = 10\n",
    "    \n",
    "    #Opens training data set\n",
    "    fd = open(trainfile, 'r')\n",
    "    loaded = fd.readlines()\n",
    "    fd.close()\n",
    "    \n",
    "    fdtr = open(testfile, 'r')\n",
    "    loadedtr = fdtr.readlines()\n",
    "    fdtr.close()\n",
    "\n",
    "    #Pre-process the training data set\n",
    "    for line in loaded:\n",
    "        #reset options\n",
    "        opt = np.array([0.] * numOutputs)\n",
    "\n",
    "        #split off classification from input array\n",
    "        linebits = line.split(',')\n",
    "        imgtr.append(np.asfarray(linebits[1:])/255)  #currently (784,1) on intensity scale 0-1reshape((28,28))\n",
    "\n",
    "        #classify from 0-9\n",
    "        opt[int(linebits[0])] = 1.\n",
    "        tartr.append(opt)\n",
    "    print(len(imgtr), len(imgtr[0]), len(tartr), tartr[-1], linebits[0])\n",
    "    \n",
    "    #Same thing for test data set\n",
    "    for line in loadedtr:\n",
    "        opt = np.array([0.] * numOutputs)\n",
    "        \n",
    "        linebits = line.split(',')\n",
    "        imgte.append(np.asfarray(linebits[1:])/255)\n",
    "        \n",
    "\n",
    "        opt[int(linebits[0])] = 1.\n",
    "        tarte.append(opt)\n",
    "    print(len(imgte), len(imgte[0]), len(tarte), tarte[-1], linebits[0])\n",
    "    return imgtr, tartr, imgte, tarte\n",
    "imgtr, tartr, imgte, tarte = make_dataset(\"mnist_train_100.csv\", \"mnist_test_10.csv\")"
   ]
  },
  {
   "cell_type": "code",
   "execution_count": 39,
   "metadata": {},
   "outputs": [
    {
     "name": "stdout",
     "output_type": "stream",
     "text": [
      "3 (625,)\n"
     ]
    },
    {
     "data": {
      "image/png": "[encoded data removed]",
      "text/plain": [
       "<Figure size 432x288 with 1 Axes>"
      ]
     },
     "metadata": {},
     "output_type": "display_data"
    },
    {
     "name": "stdout",
     "output_type": "stream",
     "text": [
      "last guess:  0\n",
      "actual vector:  1\n",
      "difference:  [ 5.42852903e-03 -9.99829403e-01  2.28944178e-11  2.04697627e-08\n",
      "  4.53466588e-03  1.69506932e-07  1.96141484e-06  3.63521167e-15\n",
      "  5.02029163e-15  8.62860635e-10]\n"
     ]
    },
    {
     "data": {
      "text/plain": [
       "0.49985443396417206"
      ]
     },
     "execution_count": 39,
     "metadata": {},
     "output_type": "execute_result"
    }
   ],
   "source": [
    "trainNetwork(imgtr, .05, [784, 625, 625, 10], tartr)"
   ]
  }
 ],
 "metadata": {
  "kernelspec": {
   "display_name": "Python 3",
   "language": "python",
   "name": "python3"
  },
  "language_info": {
   "codemirror_mode": {
    "name": "ipython",
    "version": 3
   },
   "file_extension": ".py",
   "mimetype": "text/x-python",
   "name": "python",
   "nbconvert_exporter": "python",
   "pygments_lexer": "ipython3",
   "version": "3.6.3"
  }
 },
 "nbformat": 4,
 "nbformat_minor": 2
}
