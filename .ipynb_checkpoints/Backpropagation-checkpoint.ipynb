{
 "cells": [
  {
   "cell_type": "markdown",
   "metadata": {},
   "source": [
    "# Backpropagation Notebook\n",
    "Design Your Own Adventure Project: QEA Spring 2018  \n",
    "Hwei-Shin Harriman"
   ]
  },
  {
   "cell_type": "code",
   "execution_count": 1,
   "metadata": {
    "collapsed": true
   },
   "outputs": [],
   "source": [
    "import numpy as np\n",
    "import math\n",
    "import matplotlib\n",
    "import matplotlib.pyplot as plt"
   ]
  },
  {
   "cell_type": "code",
   "execution_count": 2,
   "metadata": {
    "collapsed": true
   },
   "outputs": [],
   "source": [
    "def sigmoid(aj):\n",
    "    #Calculates the sigmoid function using logistic\n",
    "    return 1 / (1 + np.exp(-aj))"
   ]
  },
  {
   "cell_type": "code",
   "execution_count": 3,
   "metadata": {
    "collapsed": true
   },
   "outputs": [],
   "source": [
    "def sigPrime(z):\n",
    "    return (z * (1 - z))"
   ]
  },
  {
   "cell_type": "code",
   "execution_count": 4,
   "metadata": {
    "collapsed": true
   },
   "outputs": [],
   "source": [
    "def calcAj(weights, prevLayerOut):    \n",
    "    #Calculates the sum of the weights and outputs from previous \n",
    "    #prevLayerOut and weights must be np arrays\n",
    "    #weights should be one ROW of the weights matrix\n",
    "    #prevLayerOut should be a ROW vector\n",
    "    return np.dot(weights, prevLayerOut)"
   ]
  },
  {
   "cell_type": "code",
   "execution_count": 5,
   "metadata": {
    "collapsed": true
   },
   "outputs": [],
   "source": [
    "#given matrix of weights, number of nodes per hidden layer,\n",
    "#and an input vector of data, propagate forward for one layer\n",
    "\n",
    "def calcLayerOutputs(inputVec, weights):\n",
    "    #define matrix of output activations for all units in current layer\n",
    "\n",
    "    return sigmoid(np.matmul(weights, inputVec))"
   ]
  },
  {
   "cell_type": "code",
   "execution_count": 6,
   "metadata": {
    "collapsed": true
   },
   "outputs": [],
   "source": [
    "def sumOfSquareError(netOutput, target):\n",
    "    #Takes 2 vectors of same dimensions, returns the sum-of-squares error\n",
    "    return 0.5 * np.sum(np.power(netOutput - target, 2))"
   ]
  },
  {
   "cell_type": "code",
   "execution_count": 7,
   "metadata": {
    "collapsed": true
   },
   "outputs": [],
   "source": [
    "def calcDelta(netOutput, target):\n",
    "    #Takes 2 np arrays, all activations from forward prop and actual target\n",
    "    #returns delta value for each output neuron\n",
    "    #assumes netOutput's last entry is activations of output layer\n",
    "    sigOutk = []\n",
    "    guesses = netOutput[-1]\n",
    "    for k in range(len(guesses)):\n",
    "        sigOutk.append(sigPrime(guesses[k]))\n",
    "    return np.asarray(sigOutk) * (guesses - target)"
   ]
  },
  {
   "cell_type": "code",
   "execution_count": 8,
   "metadata": {
    "collapsed": true
   },
   "outputs": [],
   "source": [
    "#neuronsPerLayer = array with number of neurons in each hidden/output layer\n",
    "def forwardprop(inputVec, weights):\n",
    "    #calculates outputs for all neurons in network\n",
    "    activations = [inputVec]\n",
    "    \n",
    "    #dynamically calculates activations for all nodes in network\n",
    "    for layer in range(len(weights)):\n",
    "        weightsInLayer = weights[layer]\n",
    "        \n",
    "        #calculates all activations for current layer\n",
    "        layerActivations = calcLayerOutputs(activations[layer], weightsInLayer[:, :])\n",
    "            \n",
    "        #adds resulting np array to list\n",
    "        activations.append(layerActivations)\n",
    "    #should be number of layers * j (neurons per layer) activations\n",
    "    return activations"
   ]
  },
  {
   "cell_type": "code",
   "execution_count": 9,
   "metadata": {
    "collapsed": true
   },
   "outputs": [],
   "source": [
    "def backprop(activations, weights, deltaK):\n",
    "    #calculates deltas for hidden units\n",
    "    allDeltas = [deltaK]\n",
    "    for layer in range(len(weights) - 1, 0, -1):\n",
    "        #fetches activations from previous layer\n",
    "        zj = activations[layer - 1]\n",
    "        weightsInLayer = weights[layer]\n",
    "        \n",
    "        #empty cache list\n",
    "        deltaJs = []\n",
    "        for j in range(len(zj)):\n",
    "            dj = sigPrime(zj[j]) * np.dot(weightsInLayer[j, :], allDeltas[0])\n",
    "            deltaJs.append(dj)\n",
    "        \n",
    "        #builds list of deltas to have same indexing as weights matrix\n",
    "        allDeltas.insert(0, np.asarray(deltaJs))\n",
    "        \n",
    "    #inserts placeholder activations on input vecs for indexing in\n",
    "    #updateWeights function\n",
    "    allDeltas.insert(0, activations[0])\n",
    "    return allDeltas"
   ]
  },
  {
   "cell_type": "code",
   "execution_count": 13,
   "metadata": {},
   "outputs": [
    {
     "name": "stdout",
     "output_type": "stream",
     "text": [
      "[array([0.18864487, 0.60525718, 0.36171265, 0.96860732, 0.31090988,\n",
      "       0.7696819 , 0.04664802, 0.5498162 , 0.50742133, 0.91485144]), array([0.39821585, 0.38416265, 0.99639702, 0.29996002, 0.87815462,\n",
      "       0.02907887, 0.74005026, 0.20161136, 0.78564119, 0.5606162 ]), array([0.53894121, 0.48833801, 0.8721735 , 0.01709679, 0.39244402,\n",
      "       0.52605792, 0.95479675, 0.98930578, 0.54227072, 0.9173345 ]), array([0.94721622, 0.69959202, 0.77322195, 0.59051607, 0.15868053,\n",
      "       0.62492334, 0.23040174, 0.2858955 , 0.52877923, 0.72609816])]\n"
     ]
    }
   ],
   "source": [
    "#testing functionality of forward propagation\n",
    "\n",
    "#generate random vector and weight matrix\n",
    "inputVec = np.random.rand(10)\n",
    "numLayers = 3\n",
    "weightMatrix = []\n",
    "for layer in range(numLayers):\n",
    "    weightMatrix.append(np.random.randn(10, 10))\n",
    "neuronsPerLayer = [10, 10, 10]\n",
    "activations = forwardprop(inputVec, weightMatrix)\n",
    "\n",
    "#first entry of activations is the input vector\n",
    "print(activations)"
   ]
  },
  {
   "cell_type": "code",
   "execution_count": 14,
   "metadata": {},
   "outputs": [
    {
     "data": {
      "text/plain": [
       "array([ 0.04735858,  0.14702838,  0.13558429, -0.09901602, -0.11231701,\n",
       "       -0.08791578,  0.04085409,  0.05836821, -0.11741491,  0.14440613])"
      ]
     },
     "execution_count": 14,
     "metadata": {},
     "output_type": "execute_result"
    }
   ],
   "source": [
    "#test functionality of deltas function\n",
    "targets = np.array([0., 0., 0., 1., 1., 1. , 0., 0., 1., 0.])\n",
    "\n",
    "deltas = calcDelta(activations, targets)\n",
    "deltas"
   ]
  },
  {
   "cell_type": "code",
   "execution_count": 15,
   "metadata": {},
   "outputs": [
    {
     "data": {
      "text/plain": [
       "[array([0.18864487, 0.60525718, 0.36171265, 0.96860732, 0.31090988,\n",
       "        0.7696819 , 0.04664802, 0.5498162 , 0.50742133, 0.91485144]),\n",
       " array([-0.06742865, -0.00555028, -0.02718255,  0.00642423, -0.03628137,\n",
       "         0.00836004, -0.00983969, -0.01807249, -0.04063305, -0.01065748]),\n",
       " array([-0.09186496, -0.02371459, -0.000497  , -0.03473956,  0.00378769,\n",
       "         0.00660783, -0.07175188,  0.06372241, -0.00084253, -0.11808505]),\n",
       " array([ 0.04735858,  0.14702838,  0.13558429, -0.09901602, -0.11231701,\n",
       "        -0.08791578,  0.04085409,  0.05836821, -0.11741491,  0.14440613])]"
      ]
     },
     "execution_count": 15,
     "metadata": {},
     "output_type": "execute_result"
    }
   ],
   "source": [
    "#test functionality of backprop\n",
    "alldeltas = backprop(activations, weightMatrix, deltas)\n",
    "alldeltas"
   ]
  },
  {
   "cell_type": "code",
   "execution_count": 16,
   "metadata": {},
   "outputs": [
    {
     "data": {
      "text/plain": [
       "[array([[3.55868858e-05, 1.14178660e-04, 6.82352342e-05, 1.82722798e-04,\n",
       "         5.86515525e-05, 1.45196540e-04, 8.79990976e-06, 1.03720003e-04,\n",
       "         9.57224284e-05, 1.72582028e-04],\n",
       "        [1.14178660e-04, 3.66336250e-04, 2.18929176e-04, 5.86256529e-04,\n",
       "         1.88180435e-04, 4.65855495e-04, 2.82340496e-05, 3.32780198e-04,\n",
       "         3.07120399e-04, 5.53720400e-04],\n",
       "        [6.82352342e-05, 2.18929176e-04, 1.30836039e-04, 3.50357516e-04,\n",
       "         1.12460035e-04, 2.78403678e-04, 1.68731793e-05, 1.98875472e-04,\n",
       "         1.83540711e-04, 3.30913337e-04],\n",
       "        [1.82722798e-04, 5.86256529e-04, 3.50357516e-04, 9.38200132e-04,\n",
       "         3.01149582e-04, 7.45519521e-04, 4.51836146e-05, 5.32555989e-04,\n",
       "         4.91492008e-04, 8.86131799e-04],\n",
       "        [5.86515525e-05, 1.88180435e-04, 1.12460035e-04, 3.01149582e-04,\n",
       "         9.66649519e-05, 2.39301706e-04, 1.45033306e-05, 1.70943286e-04,\n",
       "         1.57762302e-04, 2.84436350e-04],\n",
       "        [1.45196540e-04, 4.65855495e-04, 2.78403678e-04, 7.45519521e-04,\n",
       "         2.39301706e-04, 5.92410230e-04, 3.59041377e-05, 4.23183575e-04,\n",
       "         3.90553011e-04, 7.04144597e-04],\n",
       "        [8.79990976e-06, 2.82340496e-05, 1.68731793e-05, 4.51836146e-05,\n",
       "         1.45033306e-05, 3.59041377e-05, 2.17603789e-06, 2.56478376e-05,\n",
       "         2.36702008e-05, 4.26760095e-05],\n",
       "        [1.03720003e-04, 3.32780198e-04, 1.98875472e-04, 5.32555989e-04,\n",
       "         1.70943286e-04, 4.23183575e-04, 2.56478376e-05, 3.02297849e-04,\n",
       "         2.78988463e-04, 5.03000139e-04],\n",
       "        [9.57224284e-05, 3.07120399e-04, 1.83540711e-04, 4.91492008e-04,\n",
       "         1.57762302e-04, 3.90553011e-04, 2.36702008e-05, 2.78988463e-04,\n",
       "         2.57476401e-04, 4.64215131e-04],\n",
       "        [1.72582028e-04, 5.53720400e-04, 3.30913337e-04, 8.86131799e-04,\n",
       "         2.84436350e-04, 7.04144597e-04, 4.26760095e-05, 5.03000139e-04,\n",
       "         4.64215131e-04, 8.36953160e-04]]),\n",
       " array([[-2.68511563e-05, -2.21020954e-06, -1.08245210e-05,\n",
       "          2.55822964e-06, -1.44478168e-05,  3.32909875e-06,\n",
       "         -3.91832092e-06, -7.19675339e-06, -1.61807259e-05,\n",
       "         -4.24397841e-06],\n",
       "        [-2.59035686e-05, -2.13221040e-06, -1.04425195e-05,\n",
       "          2.46794873e-06, -1.39379478e-05,  3.21161357e-06,\n",
       "         -3.78004186e-06, -6.94277718e-06, -1.56097019e-05,\n",
       "         -4.09420677e-06],\n",
       "        [-6.71857048e-05, -5.53028273e-06, -2.70846092e-05,\n",
       "          6.40108229e-06, -3.61506500e-05,  8.32991486e-06,\n",
       "         -9.80423895e-06, -1.80073790e-05, -4.04866540e-05,\n",
       "         -1.06190839e-05],\n",
       "        [-2.02258988e-05, -1.66486217e-06, -8.15367741e-06,\n",
       "          1.92701175e-06, -1.08829607e-05,  2.50767652e-06,\n",
       "         -2.95151394e-06, -5.42102559e-06, -1.21882917e-05,\n",
       "         -3.19681867e-06],\n",
       "        [-5.92127796e-05, -4.87400427e-06, -2.38704796e-05,\n",
       "          5.64146608e-06, -3.18606536e-05,  7.34140416e-06,\n",
       "         -8.64077025e-06, -1.58704440e-05, -3.56821042e-05,\n",
       "         -9.35891755e-06],\n",
       "        [-1.96074900e-06, -1.61395886e-07, -7.90437797e-07,\n",
       "          1.86809319e-07, -1.05502132e-06,  2.43100408e-07,\n",
       "         -2.86127113e-07, -5.25527723e-07, -1.18156335e-06,\n",
       "         -3.09907564e-07],\n",
       "        [-4.99005888e-05, -4.10748633e-06, -2.01164511e-05,\n",
       "          4.75425205e-06, -2.68500379e-05,  6.18684670e-06,\n",
       "         -7.28186594e-06, -1.33745537e-05, -3.00705020e-05,\n",
       "         -7.88707268e-06],\n",
       "        [-1.35943813e-05, -1.11899953e-06, -5.48031023e-06,\n",
       "          1.29519745e-06, -7.31473641e-06,  1.68547817e-06,\n",
       "         -1.98379348e-06, -3.64361999e-06, -8.19208514e-06,\n",
       "         -2.14866951e-06],\n",
       "        [-5.29747235e-05, -4.36052877e-06, -2.13557287e-05,\n",
       "          5.04713861e-06, -2.85041393e-05,  6.56798850e-06,\n",
       "         -7.73046661e-06, -1.41984955e-05, -3.19230007e-05,\n",
       "         -8.37295721e-06],\n",
       "        [-3.78015931e-05, -3.11157705e-06, -1.52389765e-05,\n",
       "          3.60152667e-06, -2.03399244e-05,  4.68677158e-06,\n",
       "         -5.51629029e-06, -1.01317329e-05, -2.27795485e-05,\n",
       "         -5.97475740e-06]]),\n",
       " array([[-4.95098143e-05, -1.27807699e-05, -2.67854626e-07,\n",
       "         -1.87225791e-05,  2.04134119e-06,  3.56122965e-06,\n",
       "         -3.86700444e-05,  3.43426336e-05, -4.54071847e-07,\n",
       "         -6.36408973e-05],\n",
       "        [-4.48611535e-05, -1.15807358e-05, -2.42704758e-07,\n",
       "         -1.69646464e-05,  1.84967206e-06,  3.22685254e-06,\n",
       "         -3.50391699e-05,  3.11180758e-05, -4.11437351e-07,\n",
       "         -5.76654164e-05],\n",
       "        [-8.01221864e-05, -2.06832372e-05, -4.33471597e-07,\n",
       "         -3.02989214e-05,  3.30352117e-06,  5.76317060e-06,\n",
       "         -6.25800874e-05,  5.55769988e-05, -7.34828634e-07,\n",
       "         -1.02990648e-04],\n",
       "        [-1.57059614e-06, -4.05443410e-07, -8.49713231e-09,\n",
       "         -5.93934979e-07,  6.47573142e-08,  1.12972622e-07,\n",
       "         -1.22672693e-06,  1.08944880e-06, -1.44044873e-08,\n",
       "         -2.01887543e-06],\n",
       "        [-3.60518555e-05, -9.30664913e-06, -1.95045294e-07,\n",
       "         -1.36333316e-05,  1.48645554e-06,  2.59320174e-06,\n",
       "         -2.81585958e-05,  2.50074794e-05, -3.30644193e-07,\n",
       "         -4.63417701e-05],\n",
       "        [-4.83262911e-05, -1.24752479e-05, -2.61451610e-07,\n",
       "         -1.82750192e-05,  1.99254330e-06,  3.47609910e-06,\n",
       "         -3.77456440e-05,  3.35216791e-05, -4.43217342e-07,\n",
       "         -6.21195731e-05],\n",
       "        [-8.77123679e-05, -2.26426136e-05, -4.74535480e-07,\n",
       "         -3.31692164e-05,  3.61647225e-06,  6.30913062e-06,\n",
       "         -6.85084606e-05,  6.08419513e-05, -8.04440847e-07,\n",
       "         -1.12747217e-04],\n",
       "        [-9.08825384e-05, -2.34609810e-05, -4.91686521e-07,\n",
       "         -3.43680447e-05,  3.74718168e-06,  6.53716026e-06,\n",
       "         -7.09845481e-05,  6.30409498e-05, -8.33515591e-07,\n",
       "         -1.16822217e-04],\n",
       "        [-4.98156793e-05, -1.28597278e-05, -2.69509396e-07,\n",
       "         -1.88382447e-05,  2.05395232e-06,  3.58323045e-06,\n",
       "         -3.89089427e-05,  3.45547978e-05, -4.56877043e-07,\n",
       "         -6.40340622e-05],\n",
       "        [-8.42708997e-05, -2.17542117e-05, -4.55916684e-07,\n",
       "         -3.18677944e-05,  3.47457693e-06,  6.06158660e-06,\n",
       "         -6.58204738e-05,  5.84547664e-05, -7.72877937e-07,\n",
       "         -1.08323486e-04]])]"
      ]
     },
     "execution_count": 16,
     "metadata": {},
     "output_type": "execute_result"
    }
   ],
   "source": [
    "def calcGradient(learningRate, deltas, activations, weights):\n",
    "    #for each layer, for each weight @ every node, calculate the gradient\n",
    "    gradient = []\n",
    "    for layer in range(len(weights) -1, -1, -1):\n",
    "        deltaKs = deltas[layer]\n",
    "        outJs = activations[layer]\n",
    "        weightDims = weights[layer]\n",
    "        \n",
    "        #pre-allocate array to fill with gradient values\n",
    "        weightsInLayer = np.array([[0.] * weightDims.shape[0]] * weightDims.shape[1])\n",
    "\n",
    "        for k in range(len(deltaKs)):\n",
    "            for j in range(len(outJs)):\n",
    "                weightsInLayer[j,k] =  1 * learningRate * deltaKs[k] * outJs[j]\n",
    "        \n",
    "        gradient.insert(0, weightsInLayer)\n",
    "    return gradient\n",
    "updatedW = calcGradient(.001, alldeltas, activations, weightMatrix)\n",
    "updatedW"
   ]
  },
  {
   "cell_type": "code",
   "execution_count": 17,
   "metadata": {
    "collapsed": true,
    "scrolled": true
   },
   "outputs": [],
   "source": [
    "def updateWeights(learningRate, deltas, activations, weights):\n",
    "    #calculate the gradient\n",
    "    gradComponents = calcGradient(learningRate, deltas, activations, weights)\n",
    "    \n",
    "    #update all of the weights based on the gradient\n",
    "    newWeights = []\n",
    "    for layer in range(len(weights)):\n",
    "        weightsInLayer = weights[layer]\n",
    "        gradInLayer = gradComponents[layer]\n",
    "        \n",
    "        newWeights.append(gradInLayer + weightsInLayer)\n",
    "    return newWeights\n",
    "newWeights = updateWeights(.001, alldeltas, activations, weightMatrix)"
   ]
  },
  {
   "cell_type": "code",
   "execution_count": 20,
   "metadata": {},
   "outputs": [
    {
     "data": {
      "image/png": "[encoded data removed]",
      "text/plain": [
       "<Figure size 432x288 with 1 Axes>"
      ]
     },
     "metadata": {},
     "output_type": "display_data"
    },
    {
     "name": "stdout",
     "output_type": "stream",
     "text": [
      "last guess:  [0.44804891 0.46100662 0.88782868 0.4710864  0.82330092 0.36967229\n",
      " 0.28424996 0.06632339 0.08483984 0.72758277]\n",
      "actual vector:  [0.18864487 0.60525718 0.36171265 0.96860732 0.31090988 0.7696819\n",
      " 0.04664802 0.5498162  0.50742133 0.91485144]\n",
      "difference:  [ 0.25940405 -0.14425055  0.52611603 -0.49752091  0.51239104 -0.40000961\n",
      "  0.23760194 -0.4834928  -0.42258149 -0.18726867]\n"
     ]
    },
    {
     "data": {
      "text/plain": [
       "1.6809457605242792"
      ]
     },
     "execution_count": 20,
     "metadata": {},
     "output_type": "execute_result"
    }
   ],
   "source": [
    "def trainNetwork(patterns, learningRate, neuronsPerLayer, targets):\n",
    "    #Randomly initialize all weights in network\n",
    "    weights = []\n",
    "    errors = []\n",
    "    for layer in range(len(neuronsPerLayer) - 1):\n",
    "        weights.append(np.random.randn(neuronsPerLayer[layer], neuronsPerLayer[layer + 1]))\n",
    "    \n",
    "    #Initialize error plot\n",
    "    fig, ax = plt.subplots()\n",
    "    \n",
    "    #Loop through all input vectors, train the network, plot the error\n",
    "    for p in range(len(patterns)):\n",
    "        #forward pass through network, find all activations\n",
    "        activations = forwardprop(patterns[p], weights)\n",
    "        \n",
    "        #calculate deltas at output layer\n",
    "        deltaK = calcDelta(activations, targets[p])\n",
    "        \n",
    "        #calculate rest of deltas with backpropagation\n",
    "        allDeltas = backprop(activations, weights, deltaK)\n",
    "        \n",
    "        #update weights\n",
    "        weights = updateWeights(learningRate, allDeltas, activations, weights)\n",
    "        \n",
    "        #TODO: ideally(?) this should be sumOfSquareError(netOut, targets[p])\n",
    "        #calculate network error\n",
    "        error = sumOfSquareError(activations[-1], targets[p])\n",
    "        \n",
    "        #add to list of errors\n",
    "        errors.append(error)\n",
    "        \n",
    "\n",
    "    #plot the error\n",
    "    ax.plot(errors, marker= '.')\n",
    "    ax.set(xlabel = 'Iteration', ylabel= 'Sum of Squared Error', title= 'Network Error Graph')\n",
    "    plt.show()\n",
    "    \n",
    "    print(\"last guess: \", activations[-1])\n",
    "    print(\"actual vector: \", patterns[-1])\n",
    "    print(\"difference: \", (activations[-1] - patterns[-1]))\n",
    "    return error\n",
    "trainNetwork([inputVec], .001, [10, 10, 10], [targets])"
   ]
  },
  {
   "cell_type": "code",
   "execution_count": 23,
   "metadata": {},
   "outputs": [
    {
     "data": {
      "image/png": "[encoded data removed]",
      "text/plain": [
       "<Figure size 432x288 with 1 Axes>"
      ]
     },
     "metadata": {},
     "output_type": "display_data"
    },
    {
     "name": "stdout",
     "output_type": "stream",
     "text": [
      "last guess:  [1.52570509e-40 1.00000000e+00 9.44838718e-51 1.00000000e+00\n",
      " 1.00000000e+00 5.13375627e-57 1.22763171e-11 1.00000000e+00\n",
      " 9.99999943e-01 6.02932446e-17]\n",
      "actual vector:  [-1.04928655  1.1363447  -1.30730034  1.01404528  0.79769454 -1.41931688\n",
      " -0.26487139  1.05126584  0.14355861 -0.38944272]\n",
      "difference:  [ 1.04928655 -0.1363447   1.30730034 -0.01404528  0.20230546  1.41931688\n",
      "  0.26487139 -0.05126584  0.85644133  0.38944272]\n"
     ]
    },
    {
     "data": {
      "text/plain": [
       "2.9210769525032294"
      ]
     },
     "execution_count": 23,
     "metadata": {},
     "output_type": "execute_result"
    }
   ],
   "source": [
    "#test with dummy data\n",
    "num_tests = 10000\n",
    "inputData = []\n",
    "targetData = []\n",
    "\n",
    "vec = np.random.randn(10)\n",
    "#Generate data where targets are the same as the input vectors\n",
    "for test in range(num_tests):\n",
    "    inputData.append(vec)\n",
    "    targetData.append(vec)\n",
    "\n",
    "#moment of truth let's gooo\n",
    "trainNetwork(inputData, .001, [10, 10], targetData)"
   ]
  },
  {
   "cell_type": "code",
   "execution_count": null,
   "metadata": {},
   "outputs": [],
   "source": [
    "#INCORRECT: SHOULD TEST DIFFERENCES IN WEIGHTS INSTEAD OF INPUT VECS\n",
    "#new notebook has correct test\n",
    "#sanity check numerical differentiation\n",
    "\n",
    "#calculate f(x + 10**-6)\n",
    "errVec = inputVec + 10**-6\n",
    "activations1 = forwardprop(errVec, weightMatrix)\n",
    "deltas1 = calcDelta(activations1, targets)\n",
    "alldeltas1 = backprop(activations1, weightMatrix, deltas1)\n",
    "updatedW1 = calcGradient(.001, alldeltas1, activations1, weightMatrix)\n",
    "\n",
    "for entry in range(len(updatedW1)):\n",
    "    #for each layer of network, return (f(x + 10**-6) - f(x)) / 10**-6\n",
    "    diff = (updatedW1[entry] - updatedW[entry])/ 10**-6\n",
    "    print(\"diff\")\n",
    "    print(diff)"
   ]
  },
  {
   "cell_type": "code",
   "execution_count": null,
   "metadata": {
    "collapsed": true
   },
   "outputs": [],
   "source": []
  }
 ],
 "metadata": {
  "kernelspec": {
   "display_name": "Python 3",
   "language": "python",
   "name": "python3"
  },
  "language_info": {
   "codemirror_mode": {
    "name": "ipython",
    "version": 3
   },
   "file_extension": ".py",
   "mimetype": "text/x-python",
   "name": "python",
   "nbconvert_exporter": "python",
   "pygments_lexer": "ipython3",
   "version": "3.6.3"
  }
 },
 "nbformat": 4,
 "nbformat_minor": 2
}
