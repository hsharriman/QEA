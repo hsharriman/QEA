{
 "cells": [
  {
   "cell_type": "code",
   "execution_count": 20,
   "metadata": {},
   "outputs": [
    {
     "name": "stdout",
     "output_type": "stream",
     "text": [
      "100 784 100 [0. 1. 0. 0. 0. 0. 0. 0. 0. 0.] 1\n",
      "10 10\n",
      "100 100\n",
      "784 10\n"
     ]
    }
   ],
   "source": [
    "import numpy as np\n",
    "import math\n",
    "import matplotlib\n",
    "import matplotlib.pyplot as plt\n",
    "import copy\n",
    "import feedforward as ff\n",
    "import stochastic as sto\n",
    "import pickle\n",
    "#import MNIST images\n",
    "imgtr, tartr, imgte, tarte = ff.make_dataset('mnist_train_100.csv', 'mnist_test_10.csv')\n",
    "im = imgtr[0]\n",
    "img = im.reshape((28,28))"
   ]
  },
  {
   "cell_type": "code",
   "execution_count": 2,
   "metadata": {
    "collapsed": true
   },
   "outputs": [],
   "source": [
    "def padSet(batch, pad):\n",
    "    #returns list of 1D arrays containing padded batch images\n",
    "    #batch is the input images, pad is the padding size\n",
    "    new = []\n",
    "\n",
    "    for b in range(len(batch)):\n",
    "        img = batch[b]\n",
    "        pads = np.zeros((np.shape(img)[0] + pad * 2, np.shape(img)[1] + pad * 2))\n",
    "        pads[pad:-pad, pad:-pad] = img\n",
    "        new.append(pads)\n",
    "    return new"
   ]
  },
  {
   "cell_type": "code",
   "execution_count": 3,
   "metadata": {},
   "outputs": [
    {
     "data": {
      "text/plain": [
       "array([0., 0., 4., 3., 0., 0.])"
      ]
     },
     "execution_count": 3,
     "metadata": {},
     "output_type": "execute_result"
    }
   ],
   "source": [
    "def relu(x):\n",
    "    x[x < 0] = 0\n",
    "    return x\n",
    "x = np.array([-1, -2, 4, 3, -.12, 0])\n",
    "relu(x)"
   ]
  },
  {
   "cell_type": "code",
   "execution_count": 5,
   "metadata": {},
   "outputs": [
    {
     "data": {
      "text/plain": [
       "array([[-1.80249606, -0.56305342,  1.58274178],\n",
       "       [ 1.08036695,  0.30866047, -1.32468022],\n",
       "       [ 0.24963867,  0.38114481, -0.3135534 ]])"
      ]
     },
     "execution_count": 5,
     "metadata": {},
     "output_type": "execute_result"
    }
   ],
   "source": [
    "def makefilter(size, scale,zeros=False):\n",
    "    if zeros:\n",
    "        return np.zeros(size)\n",
    "    if not zeros:\n",
    "        stddev = scale/np.sqrt(np.prod(size))\n",
    "        return np.random.normal(loc = 0, scale = stddev, size = size)\n",
    "makefilter((3,3), 3)"
   ]
  },
  {
   "cell_type": "code",
   "execution_count": 17,
   "metadata": {},
   "outputs": [
    {
     "name": "stdout",
     "output_type": "stream",
     "text": [
      "(8, 5, 5) (16, 8, 5, 5) (10, 1568)\n"
     ]
    }
   ],
   "source": [
    "def makeWeights(fil1, fil2, dense, out, zeros=False):\n",
    "    #fil1, fil2 = tuples w 1st arg: numFilters, 2nd arg: dims, 3rd arg: scale of stddev\n",
    "    layers = []\n",
    "    cache = []\n",
    "    for i in range(fil1[0]):\n",
    "        f = makefilter((fil1[1], fil1[1]), fil1[2], zeros=zeros)\n",
    "        cache.append(f)\n",
    "    layers.append(cache)\n",
    "    \n",
    "    cache = []\n",
    "    for n in range(fil2[0]):\n",
    "        f = makefilter((fil1[0], fil2[1], fil2[1]), fil2[2], zeros=zeros)\n",
    "        cache.append(f)\n",
    "    layers.append(cache)\n",
    "    \n",
    "    weight = makefilter((dense[0], dense[1]), 2, zeros=zeros)\n",
    "    layers.append(weight)\n",
    "    \n",
    "    soft = makefilter((dense[0], out), 1,zeros=zeros)\n",
    "    layers.append(soft)\n",
    "    \n",
    "    return layers\n",
    "l = makeWeights((8, 5, 3), (16, 5, 3), (10, (14*14*8)), 10)\n",
    "l = l[0:3]\n",
    "print(np.shape(np.asarray(l[0])), np.shape(np.asarray(l[1])), np.shape(np.asarray(l[2])))"
   ]
  },
  {
   "cell_type": "code",
   "execution_count": 7,
   "metadata": {
    "collapsed": true
   },
   "outputs": [],
   "source": [
    "def convdepth(imgset, filters, padding):\n",
    "    #imgset: list of 32 14x14 (dims 32x14x14), filters: list of 64 5x5 (64x5x5)\n",
    "    filtered = []\n",
    "    padded = padSet(imgset, padding)\n",
    "    padimg = np.asarray(padded)\n",
    "    for filt in filters:\n",
    "        flip = np.flipud(np.fliplr(filt))\n",
    "        out = np.zeros_like(imgset[0])\n",
    "        fildim = np.shape(filt)[1]\n",
    "\n",
    "        for row in range(np.shape(imgset)[1]):\n",
    "            for col in range(np.shape(imgset)[2]):\n",
    "                out[row, col] = np.sum(flip * padimg[:, row:row + fildim, col:col + fildim])\n",
    "        filtered.append(relu(out))\n",
    "    return filtered"
   ]
  },
  {
   "cell_type": "code",
   "execution_count": 8,
   "metadata": {
    "collapsed": true
   },
   "outputs": [],
   "source": [
    "def fullyconnected(img, weights, p):\n",
    "    #calculates outputs for all neurons in network\n",
    "    activations = [img]\n",
    "\n",
    "    #dynamically calculates activations for all nodes in network\n",
    "    for layer in range(len(weights)):\n",
    "        weightsInLayer = weights[layer]\n",
    "\n",
    "        #Apply sigmoid activation function to hidden units\n",
    "        if layer < (len(weights) - 1):\n",
    "            #calculates all activations for current layer\n",
    "            layerActivations = calcLayerOutputs(activations[layer], weightsInLayer[:, :])\n",
    "            layerActivations, dropped = dropout(activations[layer], p)\n",
    "        #Apply softmax to output units\n",
    "        if layer == (len(weights) - 1):\n",
    "            s = np.matmul(weightsInLayer[:,:], activations[layer])\n",
    "            layerActivations = softmax(s)\n",
    "\n",
    "        #adds resulting np array to list\n",
    "        activations.append(layerActivations)\n",
    "    #should be number of layers * j (neurons per layer) activations\n",
    "    return activations, dropped"
   ]
  },
  {
   "cell_type": "code",
   "execution_count": 84,
   "metadata": {
    "scrolled": true
   },
   "outputs": [
    {
     "name": "stdout",
     "output_type": "stream",
     "text": [
      "(1568, 1)\n"
     ]
    }
   ],
   "source": [
    "def forwardprop(img, weights, pad, winsz, stride, p):\n",
    "    #forward pass of MNIST network\n",
    "    layerOuts = []\n",
    "    #first convolution\n",
    "    filt = convdepth(np.asarray([img]), weights[0], pad)\n",
    "    #filt = np.reshape(filt, (1, 8, 28, 28))\n",
    "    layerOuts.append(filt)\n",
    "    \n",
    "    pool, ind = maxpool(filt, winsz, stride)\n",
    "    layerOuts.append(pool)\n",
    "     \n",
    "    #flatten\n",
    "    flat = np.asarray(pool).reshape((8*14*14,1))\n",
    "    layerOuts.append(flat)\n",
    "    \n",
    "    #logits layer\n",
    "    s = np.matmul(weights[2], flat)\n",
    "    out = ff.softmax(s)\n",
    "    layerOuts.append(out)\n",
    "    \n",
    "    return layerOuts, ind\n",
    "layerOuts, ind = forwardprop(img, l, 2, 2, 2, 0.4)\n",
    "print(np.shape(layerOuts[-2]))"
   ]
  },
  {
   "cell_type": "code",
   "execution_count": 23,
   "metadata": {},
   "outputs": [],
   "source": [
    "def maxpool(convout, winsize, stride):\n",
    "    #calculate output size\n",
    "    dim = int((np.shape(convout[0])[0] - winsize) / stride) + 1\n",
    "    poolout, allinds = [], []\n",
    "    #for number of filtered outputs from convolution\n",
    "    for f in range(len(convout)):\n",
    "        img = convout[f]\n",
    "        out = np.zeros((dim, dim))\n",
    "        rowindx = []\n",
    "        for row in range(dim):\n",
    "            colindx = []\n",
    "            for col in range(dim):\n",
    "                wind = img[(stride*row):(stride*row + winsize), (stride*col):(stride*col + winsize)]\n",
    "                \n",
    "                #find the index of the max value as a result of pooling\n",
    "                arg = np.argmax(wind)\n",
    "                if arg == 0:\n",
    "                    indx = stride*row, stride*col\n",
    "                elif arg == 1:\n",
    "                     indx = stride*row, stride*col + winsize - 1\n",
    "                elif arg == 2:\n",
    "                    indx = stride*row + winsize - 1, stride*col\n",
    "                elif arg == 3:\n",
    "                    indx = stride*row + winsize - 1, stride*col + winsize - 1\n",
    "                #add index as a tuple to list\n",
    "                #assign max value to corresponding place in output matrix\n",
    "                out[row, col] = np.amax(wind)\n",
    "                colindx.append(indx)\n",
    "            rowindx.append(colindx)\n",
    "        #add list of tuples for current output img to list\n",
    "        allinds.append(rowindx)\n",
    "        #add pooled img to list\n",
    "        #print(np.shape(out))\n",
    "        poolout.append(out)\n",
    "    return poolout, allinds"
   ]
  },
  {
   "cell_type": "code",
   "execution_count": 45,
   "metadata": {},
   "outputs": [],
   "source": [
    "def backpool(convouts, poolouts, indxs):\n",
    "    backfil = []\n",
    "    for i in range(len(convouts)):   #0-64\n",
    "        img = poolouts[i]   #7x7\n",
    "        imginds = indxs[i]    #7x7\n",
    "        temp = np.zeros_like(convouts[0])\n",
    "        #fill in values that corresponded to max pool results\n",
    "        for row in range(len(imginds)):\n",
    "            rows = imginds[row]  #1x7 of tuple pairs\n",
    "            for col in range(len(rows)):\n",
    "                coord = rows[col] #specific tuple\n",
    "                temp[coord[0], coord[1]] = img[row, col]\n",
    "        backfil.append(relu(temp))\n",
    "    return backfil"
   ]
  },
  {
   "cell_type": "code",
   "execution_count": 44,
   "metadata": {
    "collapsed": true
   },
   "outputs": [],
   "source": [
    "def backconv(backpoolout, weights, pad):\n",
    "    kerns = np.reshape(weights, (np.shape(weights)[1], np.shape(weights)[0], np.shape(weights)[2], np.shape(weights)[3]))\n",
    "    #rotates weight matrix 180 degrees\n",
    "    for i in range(np.shape(kerns)[0]):\n",
    "        for n in range(np.shape(kerns)[1]):\n",
    "            kerns[i,n,:,:] = np.fliplr(np.flipud(kerns[i,n,:,:]))\n",
    "    #backprop of convolutional layer\n",
    "    conv2grad = convdepth(np.asarray(backpoolout), kerns, pad)\n",
    "    \n",
    "    return conv2grad"
   ]
  },
  {
   "cell_type": "code",
   "execution_count": 46,
   "metadata": {
    "collapsed": true
   },
   "outputs": [],
   "source": [
    "def convgrad(backpoolout, filters, convout, pad, lrate):\n",
    "    #takes 64 filters, loops through the depth of the input img\n",
    "    #img should be 32x1x14x14, backpoolout is 64x1x14x14, for each of the 64 layers from the outpool layer the\n",
    "    #\"filter must loop through 32 layers of input img, outputs a 32x5x5 vector, 64 times\n",
    "    filtered = []\n",
    "    padded = padSet(convout, pad)   #\n",
    "    padimg = np.asarray(padded)\n",
    "\n",
    "    for filt in filters:    #0-64\n",
    "        flip = np.flipud(np.fliplr(filt))\n",
    "        out = np.zeros_like(flip)   #32x5x5\n",
    "        fildepth, fildim = np.shape(filt)[0], np.shape(filt)[1]\n",
    "\n",
    "        for dep in range(fildepth):\n",
    "            for row in range(fildim):\n",
    "                for col in range(fildim):\n",
    "                    out[dep, row, col] = np.sum(flip * padimg[dep, row:row + fildim, col:col + fildim])\n",
    "        filtered.append(lrate * out)\n",
    "    return filtered"
   ]
  },
  {
   "cell_type": "code",
   "execution_count": 82,
   "metadata": {},
   "outputs": [
    {
     "ename": "ValueError",
     "evalue": "cannot reshape array of size 100 into shape (1,10)",
     "output_type": "error",
     "traceback": [
      "\u001b[0;31m---------------------------------------------------------------------------\u001b[0m",
      "\u001b[0;31mValueError\u001b[0m                                Traceback (most recent call last)",
      "\u001b[0;32m<ipython-input-82-ca662fd06b2d>\u001b[0m in \u001b[0;36m<module>\u001b[0;34m()\u001b[0m\n\u001b[1;32m     20\u001b[0m \u001b[0;34m\u001b[0m\u001b[0m\n\u001b[1;32m     21\u001b[0m     \u001b[0;32mreturn\u001b[0m \u001b[0mgrad\u001b[0m\u001b[0;34m\u001b[0m\u001b[0m\n\u001b[0;32m---> 22\u001b[0;31m \u001b[0mb\u001b[0m \u001b[0;34m=\u001b[0m \u001b[0mbackprop\u001b[0m\u001b[0;34m(\u001b[0m\u001b[0mtartr\u001b[0m\u001b[0;34m[\u001b[0m\u001b[0;36m0\u001b[0m\u001b[0;34m]\u001b[0m\u001b[0;34m,\u001b[0m \u001b[0ml\u001b[0m\u001b[0;34m,\u001b[0m \u001b[0mlayerOuts\u001b[0m\u001b[0;34m,\u001b[0m \u001b[0mind\u001b[0m\u001b[0;34m,\u001b[0m \u001b[0;36m.01\u001b[0m\u001b[0;34m,\u001b[0m \u001b[0;36m2\u001b[0m\u001b[0;34m)\u001b[0m\u001b[0;34m\u001b[0m\u001b[0m\n\u001b[0m",
      "\u001b[0;32m<ipython-input-82-ca662fd06b2d>\u001b[0m in \u001b[0;36mbackprop\u001b[0;34m(tar, weights, outs, ind, lrate, pad)\u001b[0m\n\u001b[1;32m      6\u001b[0m     \u001b[0mndim\u001b[0m \u001b[0;34m=\u001b[0m \u001b[0;34m(\u001b[0m\u001b[0;36m1\u001b[0m\u001b[0;34m,\u001b[0m \u001b[0mnp\u001b[0m\u001b[0;34m.\u001b[0m\u001b[0mshape\u001b[0m\u001b[0;34m(\u001b[0m\u001b[0mouterr\u001b[0m\u001b[0;34m)\u001b[0m\u001b[0;34m[\u001b[0m\u001b[0;36m0\u001b[0m\u001b[0;34m]\u001b[0m\u001b[0;34m)\u001b[0m\u001b[0;34m\u001b[0m\u001b[0m\n\u001b[1;32m      7\u001b[0m     \u001b[0mmdim\u001b[0m \u001b[0;34m=\u001b[0m \u001b[0;34m(\u001b[0m\u001b[0mnp\u001b[0m\u001b[0;34m.\u001b[0m\u001b[0mshape\u001b[0m\u001b[0;34m(\u001b[0m\u001b[0mouts\u001b[0m\u001b[0;34m[\u001b[0m\u001b[0;34m-\u001b[0m\u001b[0;36m2\u001b[0m\u001b[0;34m]\u001b[0m\u001b[0;34m)\u001b[0m\u001b[0;34m[\u001b[0m\u001b[0;36m0\u001b[0m\u001b[0;34m]\u001b[0m\u001b[0;34m,\u001b[0m \u001b[0;36m1\u001b[0m\u001b[0;34m)\u001b[0m\u001b[0;34m\u001b[0m\u001b[0m\n\u001b[0;32m----> 8\u001b[0;31m     \u001b[0mdenseback\u001b[0m \u001b[0;34m=\u001b[0m \u001b[0mlrate\u001b[0m \u001b[0;34m*\u001b[0m \u001b[0mnp\u001b[0m\u001b[0;34m.\u001b[0m\u001b[0mmatmul\u001b[0m\u001b[0;34m(\u001b[0m\u001b[0mnp\u001b[0m\u001b[0;34m.\u001b[0m\u001b[0mreshape\u001b[0m\u001b[0;34m(\u001b[0m\u001b[0mouts\u001b[0m\u001b[0;34m[\u001b[0m\u001b[0;34m-\u001b[0m\u001b[0;36m2\u001b[0m\u001b[0;34m]\u001b[0m\u001b[0;34m,\u001b[0m \u001b[0mmdim\u001b[0m\u001b[0;34m)\u001b[0m\u001b[0;34m,\u001b[0m \u001b[0mnp\u001b[0m\u001b[0;34m.\u001b[0m\u001b[0mreshape\u001b[0m\u001b[0;34m(\u001b[0m\u001b[0mouterr\u001b[0m\u001b[0;34m,\u001b[0m \u001b[0mndim\u001b[0m\u001b[0;34m)\u001b[0m\u001b[0;34m)\u001b[0m\u001b[0;34m\u001b[0m\u001b[0m\n\u001b[0m\u001b[1;32m      9\u001b[0m     \u001b[0mgrad\u001b[0m\u001b[0;34m.\u001b[0m\u001b[0minsert\u001b[0m\u001b[0;34m(\u001b[0m\u001b[0;36m0\u001b[0m\u001b[0;34m,\u001b[0m \u001b[0mdenseback\u001b[0m\u001b[0;34m)\u001b[0m\u001b[0;34m\u001b[0m\u001b[0m\n\u001b[1;32m     10\u001b[0m \u001b[0;34m\u001b[0m\u001b[0m\n",
      "\u001b[0;32m~/anaconda3/lib/python3.6/site-packages/numpy/core/fromnumeric.py\u001b[0m in \u001b[0;36mreshape\u001b[0;34m(a, newshape, order)\u001b[0m\n\u001b[1;32m    255\u001b[0m            [5, 6]])\n\u001b[1;32m    256\u001b[0m     \"\"\"\n\u001b[0;32m--> 257\u001b[0;31m     \u001b[0;32mreturn\u001b[0m \u001b[0m_wrapfunc\u001b[0m\u001b[0;34m(\u001b[0m\u001b[0ma\u001b[0m\u001b[0;34m,\u001b[0m \u001b[0;34m'reshape'\u001b[0m\u001b[0;34m,\u001b[0m \u001b[0mnewshape\u001b[0m\u001b[0;34m,\u001b[0m \u001b[0morder\u001b[0m\u001b[0;34m=\u001b[0m\u001b[0morder\u001b[0m\u001b[0;34m)\u001b[0m\u001b[0;34m\u001b[0m\u001b[0m\n\u001b[0m\u001b[1;32m    258\u001b[0m \u001b[0;34m\u001b[0m\u001b[0m\n\u001b[1;32m    259\u001b[0m \u001b[0;34m\u001b[0m\u001b[0m\n",
      "\u001b[0;32m~/anaconda3/lib/python3.6/site-packages/numpy/core/fromnumeric.py\u001b[0m in \u001b[0;36m_wrapfunc\u001b[0;34m(obj, method, *args, **kwds)\u001b[0m\n\u001b[1;32m     50\u001b[0m \u001b[0;32mdef\u001b[0m \u001b[0m_wrapfunc\u001b[0m\u001b[0;34m(\u001b[0m\u001b[0mobj\u001b[0m\u001b[0;34m,\u001b[0m \u001b[0mmethod\u001b[0m\u001b[0;34m,\u001b[0m \u001b[0;34m*\u001b[0m\u001b[0margs\u001b[0m\u001b[0;34m,\u001b[0m \u001b[0;34m**\u001b[0m\u001b[0mkwds\u001b[0m\u001b[0;34m)\u001b[0m\u001b[0;34m:\u001b[0m\u001b[0;34m\u001b[0m\u001b[0m\n\u001b[1;32m     51\u001b[0m     \u001b[0;32mtry\u001b[0m\u001b[0;34m:\u001b[0m\u001b[0;34m\u001b[0m\u001b[0m\n\u001b[0;32m---> 52\u001b[0;31m         \u001b[0;32mreturn\u001b[0m \u001b[0mgetattr\u001b[0m\u001b[0;34m(\u001b[0m\u001b[0mobj\u001b[0m\u001b[0;34m,\u001b[0m \u001b[0mmethod\u001b[0m\u001b[0;34m)\u001b[0m\u001b[0;34m(\u001b[0m\u001b[0;34m*\u001b[0m\u001b[0margs\u001b[0m\u001b[0;34m,\u001b[0m \u001b[0;34m**\u001b[0m\u001b[0mkwds\u001b[0m\u001b[0;34m)\u001b[0m\u001b[0;34m\u001b[0m\u001b[0m\n\u001b[0m\u001b[1;32m     53\u001b[0m \u001b[0;34m\u001b[0m\u001b[0m\n\u001b[1;32m     54\u001b[0m     \u001b[0;31m# An AttributeError occurs if the object does not have\u001b[0m\u001b[0;34m\u001b[0m\u001b[0;34m\u001b[0m\u001b[0m\n",
      "\u001b[0;31mValueError\u001b[0m: cannot reshape array of size 100 into shape (1,10)"
     ]
    }
   ],
   "source": [
    "def backprop(tar, weights, outs, ind, lrate, pad):\n",
    "    grad = []\n",
    "    outerr = outs[-1] - tar\n",
    "    \n",
    "    #backwards fully connected, where \"current\" layer weights take into account the dropout\n",
    "    ndim = (1, np.shape(outerr)[0])\n",
    "    mdim = (np.shape(outs[-2])[0], 1)\n",
    "    denseback = lrate * np.matmul(np.reshape(outs[-2], mdim), np.reshape(outerr, ndim))\n",
    "    grad.insert(0, denseback)\n",
    "    \n",
    "    #backwards pooling: set all filter values to zero except for the one that corresponds to the max value\n",
    "    backfil2 = backpool(outs[0], outs[1], ind)   #64x14x14\n",
    "    \n",
    "    #backwards conv2, now output matrix is all zeros except for max pool values\n",
    "    #takes 64x14x14 input, 64x5x5 kernel, outputs 32x14x14\n",
    "    convweight = np.reshape(np.asarray(weights[0]),(1,8,5,5))\n",
    "    conv2out = backconv(backfil2, convweight, pad)   #TODO: Needs learning rate\n",
    "    conv2grad = convgrad(backfil2, convweight, outs[1], pad, lrate)\n",
    "    grad.insert(0, conv2grad)\n",
    "    \n",
    "    return grad\n",
    "b = backprop(tartr[0], l, layerOuts, ind, .01, 2)"
   ]
  },
  {
   "cell_type": "code",
   "execution_count": null,
   "metadata": {
    "collapsed": true
   },
   "outputs": [],
   "source": []
  }
 ],
 "metadata": {
  "kernelspec": {
   "display_name": "Python 3",
   "language": "python",
   "name": "python3"
  },
  "language_info": {
   "codemirror_mode": {
    "name": "ipython",
    "version": 3
   },
   "file_extension": ".py",
   "mimetype": "text/x-python",
   "name": "python",
   "nbconvert_exporter": "python",
   "pygments_lexer": "ipython3",
   "version": "3.6.3"
  }
 },
 "nbformat": 4,
 "nbformat_minor": 2
}
